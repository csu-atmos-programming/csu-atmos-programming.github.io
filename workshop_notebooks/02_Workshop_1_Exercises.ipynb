{
 "cells": [
  {
   "cell_type": "markdown",
   "metadata": {},
   "source": [
    "---\n",
    "title: \"Workshop 1 Exercises\"\n",
    "date: 2024-08-23\n",
    "authors:\n",
    "  - name: Justin Hudson\n",
    "---"
   ]
  },
  {
   "cell_type": "markdown",
   "metadata": {},
   "source": [
    "This notebook contains optional problems to test your skills with everything covered in workshop 1. Feel free to work on these problems in groups and don't be afraid to reach out to anyone helping conduct the workshop for help if you get stuck."
   ]
  },
  {
   "cell_type": "code",
   "execution_count": 2,
   "metadata": {},
   "outputs": [],
   "source": [
    "### IMPORTS GO HERE ###\n",
    "# STANDARD LIBRARIES #\n",
    "import datetime as dt\n",
    "# PUBLIC LIBRARIES #\n",
    "import numpy as np"
   ]
  },
  {
   "cell_type": "markdown",
   "metadata": {},
   "source": [
    "We're first going to practice working with various data types. \n",
    "\n",
    "Below is a string of reported weather station times followed by a temperature:\n",
    "- extract the temperatures from the string and save them to a list.\n",
    "The string has the format 'MM/DD/YYYY TEMP:' repeating\n",
    "\n",
    "There is also a string of just the dates from the weather station\n",
    "- save strings of the dates to a list (we'll use this later). The String has the format 'MM/DD/YYYY:' repeating\n",
    "\n",
    "HINT: The .split() method we saw in the tutorial converts the strings it acts on into a list, where the string has been fractured into sub-segments based on a specific character\n",
    "\n",
    "Once you've done both of those thing loop over the lists you made and print out the date and temperature"
   ]
  },
  {
   "cell_type": "code",
   "execution_count": 6,
   "metadata": {},
   "outputs": [],
   "source": [
    "wx_stn_str = '08/01/2024 99:08/02/2024 101: 08/03/2024 97:08/04/2024 99: 08/05/2024 82:08/06/2024 86:08/07/2024 87:08/08/2024 68:08/09/2024 78'\n",
    "wx_stn_dates_str = '08/01/2024:08/02/2024:08/03/2024:08/04/2024:08/05/2024:08/06/2024:08/07/2024:08/08/2024:08/09/2024'\n"
   ]
  },
  {
   "cell_type": "code",
   "execution_count": null,
   "metadata": {},
   "outputs": [],
   "source": [
    "# Now that we've split the weather station report into multiple lists let's convert the\n",
    "# the contents of the lists to datetime objects and floats. A function to convert to\n",
    "# datetime objects has been provided. Write a function to convert your list of \n",
    "# temperatures from a list of strings to a list of floats.\n",
    "def convert_datestr_to_datetime(date_str:str) -> dt.datetime:\n",
    "    '''\n",
    "        Uses built in datetime functions to convert a string to\n",
    "        a datetime object.\n",
    "\n",
    "        Parameters:\n",
    "            - date_str (str): The string we are converting to a datetime object\n",
    "        \n",
    "        Outpuits:\n",
    "            - date (dt.datetime): The converted string\n",
    "    '''\n",
    "\n",
    "    date = dt.datetime.strptime(date_str,'%m/%d/%Y')\n",
    "\n",
    "    return date\n",
    "\n"
   ]
  },
  {
   "cell_type": "code",
   "execution_count": null,
   "metadata": {},
   "outputs": [],
   "source": [
    "# now that we have a list of the temperature take the mean, median, and std. dev. of the \n",
    "# list of temperatures using np.mean(), np.median(), and np.std() and report those values\n",
    "# using an f-string like we used in the tutorial, report values to the first decimal place\n",
    "# using :.1f\n"
   ]
  },
  {
   "cell_type": "code",
   "execution_count": null,
   "metadata": {},
   "outputs": [],
   "source": [
    "# Now let's use an if else state combined with a loop\n",
    "# Loop over the lists you made and only print the dates where\n",
    "# the temperature was below 86\n"
   ]
  },
  {
   "cell_type": "markdown",
   "metadata": {
    "vscode": {
     "languageId": "latex"
    }
   },
   "source": [
    "Now we're going to practice with making our own functions and math operations\n",
    "\n",
    "Dewpoint Temperature is an important concept in atmospheric science. It represents the temperature for the air to be saturated with water and is important for understanding how heat affects people.\n",
    "\n",
    "Dewpoint can be approximated from a temperature (in $^oC$) and relative humidity measurement ($\\%$).\n",
    "\n",
    "Dewpoint temperature ($T_d$) can be approximated using the Magnus Formula ([Wikipedia Link](https://en.wikipedia.org/wiki/Dew_point#Calculating_the_dew_point))\n",
    "\n",
    "$$ \\gamma(T,RH) = ln(\\frac{RH}{100}) + \\frac{bT}{c+T} $$\n",
    "\n",
    "$$ T_d = \\frac{c\\gamma(T,RH)}{b - \\gamma(T,RH)} $$\n",
    "\n",
    "Where $b$ = 17.625, and $c$ = 243.04 $^oC$"
   ]
  },
  {
   "cell_type": "code",
   "execution_count": 3,
   "metadata": {},
   "outputs": [],
   "source": [
    "# Before we make a function to calculate dewpoint we need temperature data \n",
    "# Make a numpy array of containing temperature values spaced 2 degrees F apart\n",
    "# from -20 to 110 (exclusive), and an array containing possible values of RH in % from\n",
    "# 0 to 100 (exclusive) with a spacing of 5\n",
    "# feel free to use any of the techniques mentioned in the tutorial\n",
    "temp_array = None\n",
    "rh_array = None"
   ]
  },
  {
   "cell_type": "code",
   "execution_count": 4,
   "metadata": {},
   "outputs": [],
   "source": [
    "# Here is the unit conversion function we saw back in the tutorial\n",
    "def convert_f_to_c(temp:float) -> float:\n",
    "        '''\n",
    "            This functions converts temperatures in fahrenheit to celsius.\n",
    "\n",
    "            Parameters:\n",
    "                - temp (float): The temperature in fahrenheit\n",
    "\n",
    "            Outputs:\n",
    "                - conv_temp (float): The temperature in celsius\n",
    "        '''\n",
    "\n",
    "        conv_temp = 5*(temp - 32)/9\n",
    "\n",
    "        return conv_temp\n",
    "# Now that we have our arrays let's make a function to calculate dewpoint\n",
    "# I provide the empty skeleton of the functions you will need\n",
    "# To calculate gamma you will need to use the function np.log() to\n",
    "# calculate the natural log of RH/100\n",
    "def calculate_gamma(temp,rh):\n",
    "    \n",
    "    return None\n",
    "\n",
    "def calculate_dewpoint(temp,rh):\n",
    "\n",
    "    return None\n"
   ]
  },
  {
   "cell_type": "code",
   "execution_count": 5,
   "metadata": {},
   "outputs": [],
   "source": [
    "# Calculate the dewpoint of the 46th temperature value (index 45)\n",
    "# with the 15th relative humidity value (index 14)\n",
    "# As a check you should get a value of ~15.43 degrees Celsius\n",
    "# Use print() to show the value of what you calculate\n"
   ]
  },
  {
   "cell_type": "markdown",
   "metadata": {},
   "source": [
    "Now that we have our functions to calculate dewpoint let's do some more practice with numpy arrays"
   ]
  },
  {
   "cell_type": "code",
   "execution_count": 6,
   "metadata": {},
   "outputs": [
    {
     "name": "stdout",
     "output_type": "stream",
     "text": [
      "27.614541903146744\n"
     ]
    }
   ],
   "source": [
    "# Now that we have our functions to calculate dewpoint let's try something more complicated\n",
    "# Make an array called td_array that is empty and is the same\n",
    "# length as temp_array. Fill this array with dewpoint temps assuming\n",
    "# a relative humidity of 20%. Then take the difference between temp_array and td_array\n",
    "# (Actual Temp - Dew Point Temperature)\n",
    "# and print the maximum value inside that array.\n",
    "# Functions you may want to use len(), np.max() and np.empty()\n",
    "# As a check you should get a value of ~27.6 degrees Celsius, remember that units matter here\n",
    "td_array = None"
   ]
  },
  {
   "cell_type": "markdown",
   "metadata": {},
   "source": [
    "Now that we've made our dewpoint functions and worked with them let's go back to the class we made earlier weather_station\n",
    "\n",
    "Below is the definition of our class I copied over for you. \n",
    "- Add the calculate_gamma and calculate_dewpoint functions to the class.\n",
    "- You'll also notice that our class definition below doesn't have ways to set the dewpoint as well as to report the current temp, RH, and dew point. Add those functions to the class definiton as well.\n",
    "- You should modify the calculate_dewpoint function to take self as the only input.\n",
    "- You should report the dew point only to the first decimal place, and the temperature in Celsius."
   ]
  },
  {
   "cell_type": "code",
   "execution_count": 7,
   "metadata": {},
   "outputs": [],
   "source": [
    "# Here is an example of a class for a weather station object\n",
    "# This weather station class stores information such as its name, and geographic position\n",
    "# it also has a (for now) empty function to convert an observed temperature and RH to dewpoint\n",
    "class weather_station():\n",
    "    def __init__(self, name:str,lat:float,lon:float) -> None:\n",
    "        self.name = name\n",
    "        self.lat = lat\n",
    "        self.lon = lon\n",
    "        self.temp = None\n",
    "        self.RH = None\n",
    "        self.dew_pt_temp = None\n",
    "    \n",
    "    def observe_temp_and_rh(self,temp:float,RH:float) -> None:\n",
    "        '''\n",
    "            Given a temperature provided by the user set the weather station's\n",
    "            current observed temp to that value.\n",
    "\n",
    "            Parameters:\n",
    "                - temp (float): The temperature in fahrenheit\n",
    "\n",
    "            Outputs:\n",
    "                - None\n",
    "        '''\n",
    "        # This sets the the temperature and relative humidity values\n",
    "        # that is stored by the class\n",
    "        # Calling self.{insert property name} either calls that value \n",
    "        # and is used to interact with data stored within the class object\n",
    "        self.temp = temp\n",
    "        self.RH = RH\n",
    "\n",
    "        return None\n",
    "\n",
    "    def convert_f_to_c(temp:float) -> float:\n",
    "        '''\n",
    "            This functions converts temperatures in fahrenheit to celsius.\n",
    "\n",
    "            Parameters:\n",
    "                - temp (float): The temperature in fahrenheit\n",
    "\n",
    "            Outputs:\n",
    "                - conv_temp (float): The temperature in celsius\n",
    "        '''\n",
    "\n",
    "        conv_temp = 5*(temp - 32)/9\n",
    "\n",
    "        return conv_temp\n",
    "    \n",
    "    def calculate_dew_point(self) -> float:\n",
    "        '''\n",
    "            I am leaving this intentionally blank for now, we'll fill it in\n",
    "            later.\n",
    "        '''\n",
    "\n",
    "        return None\n",
    "    \n"
   ]
  },
  {
   "cell_type": "markdown",
   "metadata": {},
   "source": [
    "Double check your updated weather station class works correctly by creating a weather station called \"Christman Field\" located at 40.597N,105.144W.\n",
    "\n",
    "Observe a temperature of 65 Fahrenheit with 88% relative humidity. Report the weather stations observables. You should get a dew point of 16.3 Celsius."
   ]
  },
  {
   "cell_type": "code",
   "execution_count": 10,
   "metadata": {},
   "outputs": [],
   "source": [
    "# Create the christman field weather station below, observe the environmental variables, \n",
    "# calculate dewpoint then report the weather in this cell\n",
    "\n"
   ]
  },
  {
   "cell_type": "code",
   "execution_count": 30,
   "metadata": {},
   "outputs": [],
   "source": [
    "# Below are several numpy arrays containing weather station names, lats, lons,\n",
    "# observed temperature, and observed RH.\n",
    "# Create a numpy array of weather stations, you may need to set dtype = Object, then loop over\n",
    "# your array of weather stations, calculating the dewpoint for each one\n",
    "# then find the weather station with the lowest dewpoint\n",
    "# As a check your answer should be Denver\n",
    "station_names = np.array(['New York','Miami','Anchorage','Denver','Boston','Detroit'])\n",
    "station_lons = np.array([-74.00,-80.19,-149.90,-104.99,-71.05,-83.03])\n",
    "station_lats = np.array([40.71,25.76,61.21,39.74,42.34,42.33])\n",
    "station_temps = np.array([77,92,44,65,80,68])\n",
    "station_rhs = np.array([68.9,88.2,75.1,34.9,80.0,65.6])"
   ]
  },
  {
   "cell_type": "code",
   "execution_count": null,
   "metadata": {},
   "outputs": [],
   "source": []
  },
  {
   "cell_type": "code",
   "execution_count": null,
   "metadata": {},
   "outputs": [],
   "source": []
  },
  {
   "cell_type": "markdown",
   "metadata": {},
   "source": [
    "### Congratulations! If you've made it this far you've successfully tackled the basics of Python."
   ]
  }
 ],
 "metadata": {
  "kernelspec": {
   "display_name": "tutorial_test",
   "language": "python",
   "name": "python3"
  },
  "language_info": {
   "codemirror_mode": {
    "name": "ipython",
    "version": 3
   },
   "file_extension": ".py",
   "mimetype": "text/x-python",
   "name": "python",
   "nbconvert_exporter": "python",
   "pygments_lexer": "ipython3",
   "version": "3.12.3"
  }
 },
 "nbformat": 4,
 "nbformat_minor": 2
}
