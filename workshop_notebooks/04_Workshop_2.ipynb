{
 "cells": [
  {
   "cell_type": "markdown",
   "metadata": {},
   "source": [
    "---\n",
    "title: \"Workshop 2: Pandas, xarray, matplotlib, CartoPy, and Documentation\"\n",
    "date: 2024-08-28\n",
    "authors:\n",
    "  - name: Justin Hudson\n",
    "---"
   ]
  },
  {
   "cell_type": "markdown",
   "metadata": {},
   "source": [
    "This notebook is designed to introduce the basic functionality of some of the more important data science/analysis packages for Atmospheric Science"
   ]
  },
  {
   "cell_type": "code",
   "execution_count": null,
   "metadata": {},
   "outputs": [],
   "source": [
    "#### IMPORTS GO HERE ####\n",
    "# STANDARD LIBRARIES #\n",
    "import timeit # This is used to time code we saw it last time\n",
    "import datetime as dt # This is used to handle dates\n",
    "# PUBLIC LIBRARIES #\n",
    "import cartopy.crs as ccrs # This lets us easily work with map projections\n",
    "import cartopy.feature as cfeature # This adds political/geographic features to maps\n",
    "import matplotlib.pyplot as plt # This lets us make plots easily\n",
    "import matplotlib.ticker as mticker # Extends plotting functionality\n",
    "import numpy as np # This lets us have access to numpy arrays and other tools\n",
    "import pandas as pd # This gives us access to powerful data manipulation tools\n",
    "import xarray as xr # Also gives us access to powerful data manipulation tools"
   ]
  },
  {
   "cell_type": "markdown",
   "metadata": {},
   "source": [
    "The ability to manipulate and visualize data is incredibly important in science. We're going to introduce some of the packages most commonly used for this.\n",
    "\n",
    "NumPy we already saw some of in the last workshop the packages we're looking at today are actually built around/on top of NumPy.\n",
    "\n",
    "We're going to look at four packages:\n",
    "- Pandas\n",
    "- XArray\n",
    "- Matplotlib\n",
    "- Cartopy"
   ]
  },
  {
   "cell_type": "markdown",
   "metadata": {},
   "source": [
    "We're going to look at pandas first. The content of this tutorial is based partially on the official pandas tutorial.\n",
    "\n",
    "Pandas is based around two different data structures: 1.) The series, 2.) The dataframe"
   ]
  },
  {
   "cell_type": "code",
   "execution_count": null,
   "metadata": {},
   "outputs": [],
   "source": [
    "# A series in pandas is type of 1-D array, similar to numpy, except with a few interesting\n",
    "# extensions in functionality\n",
    "ex_series = pd.Series(np.random.random(10)*10)\n",
    "# When we print out a Pandas series we see not only the values of the series\n",
    "# but also the index used to access data within the array\n",
    "# This index is customizable and we will explore that feature later\n",
    "print(ex_series)"
   ]
  },
  {
   "cell_type": "code",
   "execution_count": null,
   "metadata": {},
   "outputs": [],
   "source": [
    "# We can access element of a pandas series using the index\n",
    "print(f'Indexing a series example: {ex_series[0]:.3f}, {ex_series[9]:.3f}')\n",
    "# We can't however use values not in the index to access values in a series\n",
    "# Uncomment the line below to get an error\n",
    "# print(ex_series[-1])\n",
    "# If we want to make use of python's indexing we have to use .iloc[]\n",
    "print(f'Indexing a series with iloc example:\\n{ex_series.iloc[-3:]}')"
   ]
  },
  {
   "cell_type": "code",
   "execution_count": null,
   "metadata": {},
   "outputs": [],
   "source": [
    "# We can also access pieces of a series using boolean operators\n",
    "ex_series_bool_ops = pd.Series(np.arange(0,25,1))\n",
    "print(f'Using Boolean Operators on a series example:\\n{ex_series_bool_ops[ex_series_bool_ops > 20]}')"
   ]
  },
  {
   "cell_type": "code",
   "execution_count": null,
   "metadata": {},
   "outputs": [],
   "source": [
    "# We can also apply mathematical operations onto a series\n",
    "print(f'Applying math to a series:\\n{np.sqrt(ex_series_bool_ops).iloc[-5:]}')\n",
    "# This however doesn't change the underlying series, we would need to\n",
    "# either save the modified series to a new variable or overwrite our previous one\n",
    "print(f'The original series is still there:\\n{ex_series.iloc[-5:]}')"
   ]
  },
  {
   "cell_type": "code",
   "execution_count": null,
   "metadata": {},
   "outputs": [],
   "source": [
    "# The index of a Pandas Series can be set to lots of things, one common index is datetime objects\n",
    "# The line below generates a series with values corresponding to a week of dates\n",
    "ex_series_cust_index = pd.Series(np.array([85,96,94,92,96,98,88]),index = np.array([dt.datetime(2024,8,1)+dt.timedelta(days = i) for i in range(7)]))\n",
    "print(ex_series_cust_index)\n",
    "# We can either access the values in this series by the index we just created (datetime objects)\n",
    "# or with .iloc\n",
    "print(f'Accessing custom index via index: {ex_series_cust_index[dt.datetime(2024,8,4)]}')\n",
    "print(f'Accessing custom index via iloc: {ex_series_cust_index.iloc[-1]}')"
   ]
  },
  {
   "cell_type": "code",
   "execution_count": null,
   "metadata": {},
   "outputs": [],
   "source": [
    "# Pandas Dataframes are a collection of multiple Pandas Series with a common index\n",
    "# This example generates a data frame via combining multiple series, numpy arrays, or lists\n",
    "# In a later workshop we'll explore generating a Dataframe from a file\n",
    "df_size = 5000\n",
    "df_series_a = pd.Series(np.random.normal(65,10,df_size))\n",
    "df_series_b = pd.Series(np.random.uniform(0,100,df_size))\n",
    "# When generating a Dataframe in this way the preferred way is to call the pd.DataFrame()\n",
    "# function on a dictionary. This let's us access items in the dataframe via the key from\n",
    "# the dictionary as well as the index (via .iloc)\n",
    "example_df = pd.DataFrame({'Temp':df_series_a,'RH':df_series_b})\n",
    "print(example_df[:10])"
   ]
  },
  {
   "cell_type": "code",
   "execution_count": null,
   "metadata": {},
   "outputs": [],
   "source": [
    "print(f'Accessing dataframe values via Column Name:\\n{example_df['Temp']}')"
   ]
  },
  {
   "cell_type": "code",
   "execution_count": null,
   "metadata": {},
   "outputs": [],
   "source": [
    "print(f'Accessing dataframe values vis Pandas Index:\\n{example_df[2:5]}')"
   ]
  },
  {
   "cell_type": "code",
   "execution_count": null,
   "metadata": {},
   "outputs": [],
   "source": [
    "print(f'Accessing dataframe values via Python Index:\\n{example_df.iloc[2:5]}')"
   ]
  },
  {
   "cell_type": "code",
   "execution_count": null,
   "metadata": {},
   "outputs": [],
   "source": [
    "# With dataframes we can use methods such as .where() and .query() to access\n",
    "# specific pieces of data within the dataframe\n",
    "print('Accessing Dataframe via .where():')\n",
    "print(example_df.where(example_df['Temp'] <= example_df['RH']))\n",
    "print('Accessing Dataframe via .query():')\n",
    "print(example_df.query('Temp <= RH'))"
   ]
  },
  {
   "cell_type": "code",
   "execution_count": null,
   "metadata": {},
   "outputs": [],
   "source": [
    "# Dataframes can be modified, the values within columns can be changed\n",
    "# and new columns can be added. One caveat however is that dataframes\n",
    "# do not like new rows being added, they can get wider but not longer\n",
    "# The line below adds an empty column for DewPt temperature\n",
    "example_df['DewPt'] = np.array([np.nan]*df_size)\n",
    "# We can use the .head() method to look at the top 5-rows of a data frame\n",
    "example_df.head()\n"
   ]
  },
  {
   "cell_type": "code",
   "execution_count": null,
   "metadata": {},
   "outputs": [],
   "source": [
    "# Similarly we can use .tail() to look at the last 5-rows\n",
    "example_df.tail()"
   ]
  },
  {
   "cell_type": "code",
   "execution_count": null,
   "metadata": {},
   "outputs": [],
   "source": [
    "# These are the functions we wrote in Workshop 1\n",
    "# We're going to use these to both calculate\n",
    "# dew point temperature and add a celsius temperature column\n",
    "def convert_f_to_c(temp:float) -> float:\n",
    "        '''\n",
    "            This functions converts temperatures in fahrenheit to celsius.\n",
    "\n",
    "            Parameters:\n",
    "                - temp (float): The temperature in fahrenheit\n",
    "\n",
    "            Outputs:\n",
    "                - conv_temp (float): The temperature in celsius\n",
    "        '''\n",
    "\n",
    "        conv_temp = 5*(temp - 32)/9\n",
    "\n",
    "        return conv_temp\n",
    "\n",
    "def calculate_gamma(temp,rh):\n",
    "    '''\n",
    "        This functions calculates the gamma needed to calculate the\n",
    "        dew point temperature using the Magnus Formula\n",
    "\n",
    "        Parameters:\n",
    "            - temp (float): The temperature in celsius\n",
    "            - RH (float): The relative humidity in %\n",
    "        \n",
    "        Returns:\n",
    "            - gamma (float): The value of gamma that we calculated\n",
    "            - b (float): An empirical constant for the Magnus formula\n",
    "            - c (float): An empirical constant for the Magnus formula\n",
    "    '''\n",
    "    b = 17.625\n",
    "    c = 243.04\n",
    "    gamma = np.log(rh/100) + (b*temp)/(c+temp)\n",
    "    \n",
    "    return gamma, b, c\n",
    "\n",
    "def calculate_dewpoint(temp,rh):\n",
    "    '''\n",
    "        This function calculates the dew point temperature using the\n",
    "        Magnus formula assuming that the input temperature is in Fahrenheit\n",
    "\n",
    "        Returns:\n",
    "            - temp (float): The temperature in Fahrenheit\n",
    "            - RH (float): The relative humidity in %\n",
    "        \n",
    "        Outputs:\n",
    "            - dew_pt_temp (float): The calculated dewpoint temperature in Celsius\n",
    "    '''\n",
    "    #Convert input temp to Celsius\n",
    "    c_temp = convert_f_to_c(temp)\n",
    "    #Calculate gamma and get the empirical constants\n",
    "    gamma,b,c = calculate_gamma(c_temp,rh)\n",
    "    #Put it all together\n",
    "    dew_pt_temp = (c*gamma) / (b - gamma)\n",
    "\n",
    "    return dew_pt_temp"
   ]
  },
  {
   "cell_type": "code",
   "execution_count": null,
   "metadata": {},
   "outputs": [],
   "source": [
    "# This applies our functions to our example dataframe\n",
    "example_df['Temp_degC'] = convert_f_to_c(example_df['Temp'])\n",
    "example_df['DewPt'] = calculate_dewpoint(example_df['Temp'],example_df['RH'])"
   ]
  },
  {
   "cell_type": "code",
   "execution_count": null,
   "metadata": {},
   "outputs": [],
   "source": [
    "# We can also easily get statistics on values stored in dataframes\n",
    "example_df.describe()"
   ]
  },
  {
   "cell_type": "code",
   "execution_count": null,
   "metadata": {},
   "outputs": [],
   "source": [
    "# If we're interested in specific columns we can also subset onto just one column or multiple in pandas\n",
    "# This code below selects just the Temp_degC and DewPt columns and calls .describe() on them\n",
    "# Notice the double square brackets\n",
    "example_df[['DewPt','Temp_degC']].describe()"
   ]
  },
  {
   "cell_type": "code",
   "execution_count": null,
   "metadata": {},
   "outputs": [],
   "source": [
    "# Pandas also let's us make a few simple plots of data quickly\n",
    "# and easily. Later we'll explore Matplotlib, the main plotting\n",
    "# package for Python and what Pandas is using to make these\n",
    "# simple plots\n",
    "# The line below makes simple histograms of the data\n",
    "example_df.hist()\n",
    "plt.show() # This just hides various messages from plot creation"
   ]
  },
  {
   "cell_type": "code",
   "execution_count": null,
   "metadata": {},
   "outputs": [],
   "source": [
    "# The line below makes simple scatter plots of the columns\n",
    "pd.plotting.scatter_matrix(example_df,color = 'k',figsize = (8,8))\n",
    "plt.show() # This just hides various messages from plot creation"
   ]
  },
  {
   "cell_type": "markdown",
   "metadata": {},
   "source": [
    "Pandas has lots of plotting functionality and here is a link to how to do various visualizations in Pandas. \n",
    "\n",
    "[Link to the documentation here.](https://pandas.pydata.org/pandas-docs/stable/user_guide/visualization.html#chart-visualization)"
   ]
  },
  {
   "cell_type": "markdown",
   "metadata": {},
   "source": [
    "The next package we're going to look at is XArray. Xarray is a package designed to making work with N-dimensional data easier, it is widely used in the atmospheric science field.\n",
    "\n",
    "The main reason XArray is used widely in our field is that it works well with the netCDF file type, a type of file designed by NCAR meant to store large amounts of data from observations, reanalysis, and climate models easily and efficiently.\n",
    "\n",
    "We will cover netCDF files in detail in the final workshop. Here we'll introduce basic ideas of how to use XArray and how to look at data with it.\n",
    "\n",
    "Like how Pandas has Series and Dataframe objects XArray utilizes DataSet and DataArray objects."
   ]
  },
  {
   "cell_type": "code",
   "execution_count": null,
   "metadata": {},
   "outputs": [],
   "source": [
    "# This line downloads a temperature dataset from NCEP\n",
    "# The National Center for Environmental Prediction\n",
    "ds = xr.tutorial.load_dataset(\"air_temperature\")\n",
    "print(1)"
   ]
  },
  {
   "cell_type": "code",
   "execution_count": null,
   "metadata": {},
   "outputs": [],
   "source": [
    "# In a notebook environment just typing the name of an XArray\n",
    "# DataSet or DataArray will pull up this informational panel\n",
    "ds"
   ]
  },
  {
   "cell_type": "code",
   "execution_count": null,
   "metadata": {},
   "outputs": [],
   "source": [
    "# Like pandas variables/coordinates in an XArray dataset are accessed by their name\n",
    "ds['air']"
   ]
  },
  {
   "cell_type": "code",
   "execution_count": null,
   "metadata": {},
   "outputs": [],
   "source": [
    "# data can also be accessed using 'dot' notation\n",
    "ds.air"
   ]
  },
  {
   "cell_type": "code",
   "execution_count": null,
   "metadata": {},
   "outputs": [],
   "source": [
    "# XArray is built on pandas so it inherits a lot of the same features\n",
    "# This selects all data at 40N, 200E\n",
    "# Pandas has a similar function that we didn't talk about but is detailed\n",
    "# in the documentation for pandas\n",
    "ds.sel(lat=40,lon = 200)"
   ]
  },
  {
   "cell_type": "code",
   "execution_count": null,
   "metadata": {},
   "outputs": [],
   "source": [
    "# We can also use the slice() function to get values within certain ranges\n",
    "# This selects data over CONUS\n",
    "ds.sel(lat=slice(22,50),lon=slice(220,320))"
   ]
  },
  {
   "cell_type": "code",
   "execution_count": null,
   "metadata": {},
   "outputs": [],
   "source": [
    "# We can also use position based indexing\n",
    "ds.air.data[:,0,0]"
   ]
  },
  {
   "cell_type": "code",
   "execution_count": null,
   "metadata": {},
   "outputs": [],
   "source": [
    "# functions called on XArray data can return XArray data-arrays\n",
    "# This gives us the mean across the entire field for each time step\n",
    "# Like pandas without saving the operation to the DataSet we are \n",
    "# not overwriting  our original data\n",
    "np.mean(ds.air,axis = (1,2))"
   ]
  },
  {
   "cell_type": "code",
   "execution_count": null,
   "metadata": {},
   "outputs": [],
   "source": [
    "# Functions can also easily be applied to XArray DataArrays\n",
    "# Below is a very simple function to convert temperature units\n",
    "def convert_K_to_C(temp_data:xr.DataArray) -> xr.DataArray:\n",
    "    '''\n",
    "        Converts Kelvin temps stored in an XArray Data Array into\n",
    "        Degrees Celsius as an XArray Data Array\n",
    "\n",
    "        Parameters:\n",
    "            - temp_data (xr.DataArray): The temps in Kelvin to convert\n",
    "                to Celsius\n",
    "        \n",
    "        Outputs:\n",
    "            - conv_data (xr.DataArray): The temps in Celsius\n",
    "    '''\n",
    "\n",
    "    conv_data = temp_data - 273.15\n",
    "\n",
    "    return conv_data\n",
    "\n",
    "# This is how easy it is to apply the function to the DataArray\n",
    "convert_K_to_C(ds.air)"
   ]
  },
  {
   "cell_type": "code",
   "execution_count": null,
   "metadata": {},
   "outputs": [],
   "source": [
    "# XArray also has very helpful high level functions for grouping together data\n",
    "# This line gives us the data grouped by seasons (DJF, MAM, JJA, SON) and \n",
    "# takes the mean across the seasons all in only a single line!\n",
    "season_mean = ds.groupby(\"time.season\").mean()\n",
    "season_mean"
   ]
  },
  {
   "cell_type": "code",
   "execution_count": null,
   "metadata": {},
   "outputs": [],
   "source": [
    "# Like pandas XArray has built in plotting capabilities\n",
    "season_mean.air.plot(col='season',col_wrap=2)\n",
    "plt.show()"
   ]
  },
  {
   "cell_type": "markdown",
   "metadata": {},
   "source": [
    "This is only the surface of XArray, it is an incredibly powerful package and there is lots of stuff you can do with it. I recommend looking through the documentation of XArray and getting a feel for all of the stuff you can do with it. [XArray Documentation](https://docs.xarray.dev/en/stable/index.html)"
   ]
  },
  {
   "cell_type": "markdown",
   "metadata": {},
   "source": [
    "The final packages we're going to look at are Matplotlib and Cartopy. These are packages designed to help us visualize data and plot data onto maps of the Earth respectively.\n",
    "\n",
    "We've seen some plotting from Pandas and XArray, both of those are secretly using Matplotlib to make their plots. By using matplotlib directly however we gain more features and customizability than either Pandas or XArray provides\n",
    "\n",
    "Matplotlib code is verbose compared to Pandas/XArray, this is because it wants you to state what youwant in your plot explicitly. We're to plot some simple data now and slowly introduce the various features of Matplotlib"
   ]
  },
  {
   "cell_type": "code",
   "execution_count": null,
   "metadata": {},
   "outputs": [],
   "source": [
    "# Generate some simple line data and plot\n",
    "example_xs = np.linspace(-10,10,20)\n",
    "example_ys = 2 * example_xs + 4\n",
    "# These two lines make the plot and shows it\n",
    "plt.plot(example_xs,example_ys)\n",
    "plt.show()"
   ]
  },
  {
   "cell_type": "code",
   "execution_count": null,
   "metadata": {},
   "outputs": [],
   "source": [
    "# This plot is really simple looking but it gets the job done\n",
    "# it shows that our data is linear. Let's spice up the plot though\n",
    "# and add some more things.\n",
    "# The first thing we're going to add are labels for our various axes\n",
    "# as well as a title\n",
    "plt.plot(example_xs,example_ys)\n",
    "plt.xlabel('Example X-Values')\n",
    "plt.ylabel('Example Y-Values')\n",
    "plt.title('Example Title')\n",
    "plt.show()"
   ]
  },
  {
   "cell_type": "code",
   "execution_count": null,
   "metadata": {},
   "outputs": [],
   "source": [
    "# This plot is a little hard to read, let's add some grid lines so we \n",
    "# can see things like the X and Y intercepts\n",
    "plt.plot(example_xs,example_ys)\n",
    "plt.xlabel('Example X-Values')\n",
    "plt.ylabel('Example Y-Values')\n",
    "plt.title('Example Title')\n",
    "plt.grid()\n",
    "plt.show()"
   ]
  },
  {
   "cell_type": "code",
   "execution_count": null,
   "metadata": {},
   "outputs": [],
   "source": [
    "# We can also add other lines to this plot\n",
    "example_xs2 = np.linspace(-10,10,50)\n",
    "example_ys2 = 10*np.sin(example_xs2)\n",
    "\n",
    "plt.plot(example_xs,example_ys)\n",
    "plt.plot(example_xs2,example_ys2)\n",
    "plt.xlabel('Example X-Values')\n",
    "plt.ylabel('Example Y-Values')\n",
    "plt.title('Example Title')\n",
    "plt.grid()\n",
    "plt.show()"
   ]
  },
  {
   "cell_type": "code",
   "execution_count": null,
   "metadata": {},
   "outputs": [],
   "source": [
    "# Let's customize our lines and add a legend\n",
    "\n",
    "plt.plot(example_xs,example_ys,color = 'k',linestyle = ':',linewidth = 3,label = 'Example 1')\n",
    "plt.plot(example_xs2,example_ys2,color = 'r',linewidth = 3,label = 'Example 2')\n",
    "plt.xlabel('Example X-Values')\n",
    "plt.ylabel('Example Y-Values')\n",
    "plt.title('Example Title')\n",
    "plt.grid()\n",
    "plt.legend(loc = 'best')\n",
    "plt.show()"
   ]
  },
  {
   "cell_type": "code",
   "execution_count": null,
   "metadata": {},
   "outputs": [],
   "source": [
    "# We can also make multiple plots on the same figure using the plt.subplots() command\n",
    "fig,ax = plt.subplots(nrows = 1,ncols = 2,figsize = (8,4)) # this makes a 2-figure plot\n",
    "# Because we're working with subplots we have to interact with the ax variable we just created\n",
    "# this contains both of the subplots we just made as ax[0] and ax[1]\n",
    "ax[0].plot(example_xs,example_ys,color = 'k',linestyle = ':',linewidth = 3,label = 'Example 1')\n",
    "ax[1].plot(example_xs2,example_ys2,color = 'r',linewidth = 3,label = 'Example 2')\n",
    "# Because the lines were plotted to a specific subplot the other subplot doesn't know they exist\n",
    "# the legend we add to ax[0] will only have the Example 1 line\n",
    "ax[0].legend(loc = 'best')\n",
    "plt.show()"
   ]
  },
  {
   "cell_type": "code",
   "execution_count": null,
   "metadata": {},
   "outputs": [],
   "source": [
    "fig,ax = plt.subplots(nrows = 1,ncols = 2,figsize = (8,3)) # this makes a 2-figure plot\n",
    "#make data for the scatter plot\n",
    "scatter_ex_xs = np.random.normal(0,1,250) # this makes normally distributed data\n",
    "scatter_ex_ys = np.random.normal(-20,20,250)\n",
    "hist_ex = np.random.normal(0,2.5,2500)\n",
    "# the .scatter() method makes a scatter plot\n",
    "ax[0].scatter(scatter_ex_xs,scatter_ex_ys,color = 'Green',marker = '^',alpha = 0.8)\n",
    "# the .hist() method makes a histogram\n",
    "ax[1].hist(hist_ex,color = 'Purple',rwidth = 0.8,bins = np.arange(-10,11,1))\n",
    "# Becuase we're working with axes objects we have to use .set_title() instead of .title()\n",
    "ax[0].set_title('Example Scatter Plot')\n",
    "ax[1].set_title('Example Histogram')\n",
    "plt.show()"
   ]
  },
  {
   "cell_type": "markdown",
   "metadata": {},
   "source": [
    "Those plots were relatively simple. A lot of our data has geographic components which makes it more complicated to visualize.\n",
    "\n",
    "Let's make some plots of variables on the earth using the data we got earlier."
   ]
  },
  {
   "cell_type": "code",
   "execution_count": null,
   "metadata": {},
   "outputs": [],
   "source": [
    "# This code makes a four-panel plot similar to the seasonal mean one that XArray\n",
    "# generated for us automatically, notice that it takes decently more than 1 line\n",
    "\n",
    "# This makes the base of our figure as a collection of sub-plots\n",
    "fig,ax = plt.subplots(nrows = 2, ncols = 2,figsize = (8,8)) # this makes a 2x2 plot that is 8 inches x 8 inches in size\n",
    "# These are various parameters for our plot that we want\n",
    "cmin = 250\n",
    "cmax = 300\n",
    "\n",
    "# These are the actual plots\n",
    "pc0 = ax[0,0].pcolormesh(season_mean.lon,season_mean.lat,season_mean.air[0,:,:],vmin = cmin,vmax = cmax)\n",
    "pc1 = ax[0,1].pcolormesh(season_mean.lon,season_mean.lat,season_mean.air[1,:,:],vmin = cmin,vmax = cmax)\n",
    "pc2 = ax[1,0].pcolormesh(season_mean.lon,season_mean.lat,season_mean.air[2,:,:],vmin = cmin,vmax = cmax)\n",
    "pc3 = ax[1,1].pcolormesh(season_mean.lon,season_mean.lat,season_mean.air[3,:,:],vmin = cmin,vmax = cmax)\n",
    "\n",
    "# This makes a colorbar axis, and adds it to the plot\n",
    "cax = fig.add_axes([0.92,0.15,0.03,0.7])\n",
    "cbar = plt.colorbar(pc0,cax=cax,label = 'Sigma Level 995 Air Temp [Kelvin]')\n",
    "\n",
    "# This modifies the spacing of our plots\n",
    "plt.subplots_adjust(hspace = 0.3,wspace = 0.2,top = 0.9,bottom = 0.1)\n",
    "\n",
    "# This adds labels to our various plots, and sets the X/Y ticks\n",
    "for row in ax:\n",
    "    for item in row:\n",
    "        item.set_xlabel('Longitude [Degrees East]')\n",
    "        item.set_ylabel('Latitude [Degrees North]')\n",
    "\n",
    "# Sets the title for the plots\n",
    "ax[0,0].set_title('DJF')\n",
    "ax[0,1].set_title('JJA')\n",
    "ax[1,0].set_title('MAM')\n",
    "ax[1,1].set_title('SON')\n",
    "\n",
    "# Call plt.show() to suppress outputs from the final method call\n",
    "plt.show()"
   ]
  },
  {
   "cell_type": "markdown",
   "metadata": {},
   "source": [
    "While that took several more lines than the single line we used with XArray we can also start customizing this plot and adding features that make it more meaningful/useful to look at. The first thing we're going to add our geographic features/borders with CartoPy"
   ]
  },
  {
   "cell_type": "code",
   "execution_count": null,
   "metadata": {},
   "outputs": [],
   "source": [
    "# This code makes a four-panel plot similar to the seasonal mean one that XArray\n",
    "# generated for us automatically, notice that it takes decently more than 1 line\n",
    "\n",
    "# This makes the base of our figure as a collection of sub-plots\n",
    "fig,ax = plt.subplots(nrows = 2, ncols = 2,figsize = (8,8),subplot_kw={'projection':ccrs.PlateCarree()}) # this makes a 2x2 plot that is 8 inches x 8 inches in size\n",
    "# These are various parameters for our plot that we want\n",
    "cmin = 250\n",
    "cmax = 300\n",
    "\n",
    "# These are the actual plots\n",
    "pc0 = ax[0,0].pcolormesh(season_mean.lon,season_mean.lat,season_mean.air[0,:,:],vmin = cmin,vmax = cmax)\n",
    "pc1 = ax[0,1].pcolormesh(season_mean.lon,season_mean.lat,season_mean.air[1,:,:],vmin = cmin,vmax = cmax)\n",
    "pc2 = ax[1,0].pcolormesh(season_mean.lon,season_mean.lat,season_mean.air[2,:,:],vmin = cmin,vmax = cmax)\n",
    "pc3 = ax[1,1].pcolormesh(season_mean.lon,season_mean.lat,season_mean.air[3,:,:],vmin = cmin,vmax = cmax)\n",
    "\n",
    "# This makes a colorbar axis, and adds it to the plot\n",
    "cax = fig.add_axes([0.92,0.25,0.03,0.5])\n",
    "cbar = plt.colorbar(pc0,cax=cax,label = 'Sigma Level 995 Air Temp [Kelvin]')\n",
    "\n",
    "# This modifies the spacing of our plots\n",
    "plt.subplots_adjust(hspace = -0.5,wspace = 0.2,top = 0.9,bottom = 0.1)\n",
    "\n",
    "# This adds labels to our various plots, and sets the X/Y ticks\n",
    "for row in ax:\n",
    "    for item in row:\n",
    "        # Adds labels to each plot\n",
    "        item.set_xlabel('Longitude [Degrees West]')\n",
    "        item.set_ylabel('Latitude [Degrees North]')\n",
    "        # Adds ticks to each plot\n",
    "        gl = item.gridlines(crs = ccrs.PlateCarree(),draw_labels = True,)\n",
    "        gl.xlines = False\n",
    "        gl.ylines = False\n",
    "        gl.top_labels = False\n",
    "        gl.right_labels = False\n",
    "        gl.xlocator = mticker.FixedLocator([-160,-120,-80,-40])\n",
    "        # Adds coastlines\n",
    "        item.coastlines()\n",
    "        # Adds country borders\n",
    "        item.add_feature(cfeature.BORDERS)\n",
    "        # Adds Country subdivisions (e.g. States/Provinces)\n",
    "        item.add_feature(cfeature.NaturalEarthFeature(category='cultural', \n",
    "    name='admin_1_states_provinces_lines', scale='10m', facecolor='none', edgecolor='k'))\n",
    "\n",
    "\n",
    "# Sets the title for the plots\n",
    "ax[0,0].set_title('DJF')\n",
    "ax[0,1].set_title('JJA')\n",
    "ax[1,0].set_title('MAM')\n",
    "ax[1,1].set_title('SON')\n",
    "# Call plt.show() to suppress outputs from the final method call\n",
    "plt.show()"
   ]
  },
  {
   "cell_type": "markdown",
   "metadata": {},
   "source": [
    "This plot is more readable, we can see what the air temp is over land vs ocean, and in specific locations much easier. Now let's zoom in on the US."
   ]
  },
  {
   "cell_type": "code",
   "execution_count": null,
   "metadata": {},
   "outputs": [],
   "source": [
    "# This code makes a four-panel plot similar to the seasonal mean one that XArray\n",
    "# generated for us automatically, notice that it takes decently more than 1 line\n",
    "\n",
    "# This makes the base of our figure as a collection of sub-plots\n",
    "fig,ax = plt.subplots(nrows = 2, ncols = 2,figsize = (8,8),subplot_kw={'projection':ccrs.PlateCarree()}) # this makes a 2x2 plot that is 8 inches x 8 inches in size\n",
    "# These are various parameters for our plot that we want\n",
    "cmin = 250\n",
    "cmax = 300\n",
    "\n",
    "# These are the actual plots\n",
    "pc0 = ax[0,0].pcolormesh(season_mean.lon,season_mean.lat,season_mean.air[0,:,:],vmin = cmin,vmax = cmax)\n",
    "pc1 = ax[0,1].pcolormesh(season_mean.lon,season_mean.lat,season_mean.air[1,:,:],vmin = cmin,vmax = cmax)\n",
    "pc2 = ax[1,0].pcolormesh(season_mean.lon,season_mean.lat,season_mean.air[2,:,:],vmin = cmin,vmax = cmax)\n",
    "pc3 = ax[1,1].pcolormesh(season_mean.lon,season_mean.lat,season_mean.air[3,:,:],vmin = cmin,vmax = cmax)\n",
    "\n",
    "# This makes a colorbar axis, and adds it to the plot\n",
    "cax = fig.add_axes([0.92,0.25,0.03,0.5])\n",
    "cbar = plt.colorbar(pc0,cax=cax,label = 'Sigma Level 995 Air Temp [Kelvin]')\n",
    "\n",
    "# This modifies the spacing of our plots\n",
    "plt.subplots_adjust(hspace = -0.5,wspace = 0.2,top = 0.9,bottom = 0.1)\n",
    "\n",
    "# This adds labels to our various plots, and sets the X/Y ticks\n",
    "for row in ax:\n",
    "    for item in row:\n",
    "        # Adds labels to the plots\n",
    "        item.set_xlabel('Longitude [Degrees West]')\n",
    "        item.set_ylabel('Latitude [Degrees North]')\n",
    "        # Adds tickmarks to the plots\n",
    "        gl = item.gridlines(crs = ccrs.PlateCarree(),draw_labels = True,color = 'k',alpha = 0.3)\n",
    "        gl.top_labels = False\n",
    "        gl.right_labels = False\n",
    "        gl.xlocator = mticker.FixedLocator([-160,-120,-80,-40])\n",
    "        # Adds coastlines\n",
    "        item.coastlines()\n",
    "        # Adds country borders\n",
    "        item.add_feature(cfeature.BORDERS)\n",
    "        # Adds Country subdivisions (e.g. States/Provinces)\n",
    "        item.add_feature(cfeature.NaturalEarthFeature(category='cultural', \n",
    "    name='admin_1_states_provinces_lines', scale='10m', facecolor='none', edgecolor='k'))\n",
    "        # These lines zoom us in onto the US\n",
    "        item.set_xlim(-130,-60)\n",
    "        item.set_ylim(25,50)\n",
    "\n",
    "\n",
    "# Sets the title for the plots\n",
    "ax[0,0].set_title('DJF')\n",
    "ax[0,1].set_title('JJA')\n",
    "ax[1,0].set_title('MAM')\n",
    "ax[1,1].set_title('SON')\n",
    "\n",
    "# Call plt.show() to suppress outputs from the final method call\n",
    "plt.show()"
   ]
  },
  {
   "cell_type": "markdown",
   "metadata": {},
   "source": [
    "Now let's change the colorbar to make the temperature variations easier to see. Matplotlib has lots of color options, as well as the ability to make your own colormap. [This is a list of the default colorbar options for Matplotlib](https://matplotlib.org/stable/users/explain/colors/colormaps.html)\n",
    "\n",
    "Try the following colormaps to gauge how they impact the data and its presentation:\n",
    "- viridis\n",
    "- seismic\n",
    "- bwr\n",
    "- turbo\n",
    "- PiYG"
   ]
  },
  {
   "cell_type": "code",
   "execution_count": null,
   "metadata": {},
   "outputs": [],
   "source": [
    "# This code makes a four-panel plot similar to the seasonal mean one that XArray\n",
    "# generated for us automatically, notice that it takes decently more than 1 line\n",
    "\n",
    "# This makes the base of our figure as a collection of sub-plots\n",
    "fig,ax = plt.subplots(nrows = 2, ncols = 2,figsize = (8,8),subplot_kw={'projection':ccrs.PlateCarree()}) # this makes a 2x2 plot that is 8 inches x 8 inches in size\n",
    "# These are various parameters for our plot that we want\n",
    "cmin = 250\n",
    "cmax = 300\n",
    "cmap = 'turbo'\n",
    "\n",
    "# These are the actual plots\n",
    "pc0 = ax[0,0].pcolormesh(season_mean.lon,season_mean.lat,season_mean.air[0,:,:],vmin = cmin,vmax = cmax,cmap = cmap)\n",
    "pc1 = ax[0,1].pcolormesh(season_mean.lon,season_mean.lat,season_mean.air[1,:,:],vmin = cmin,vmax = cmax,cmap = cmap)\n",
    "pc2 = ax[1,0].pcolormesh(season_mean.lon,season_mean.lat,season_mean.air[2,:,:],vmin = cmin,vmax = cmax,cmap = cmap)\n",
    "pc3 = ax[1,1].pcolormesh(season_mean.lon,season_mean.lat,season_mean.air[3,:,:],vmin = cmin,vmax = cmax,cmap = cmap)\n",
    "\n",
    "# This makes a colorbar axis, and adds it to the plot\n",
    "cax = fig.add_axes([0.92,0.25,0.03,0.5])\n",
    "cbar = plt.colorbar(pc0,cax=cax,label = 'Sigma Level 995 Air Temp [Kelvin]')\n",
    "\n",
    "# This modifies the spacing of our plots\n",
    "plt.subplots_adjust(hspace = -0.5,wspace = 0.2,top = 0.9,bottom = 0.1)\n",
    "\n",
    "# This adds labels to our various plots, and sets the X/Y ticks\n",
    "for row in ax:\n",
    "    for item in row:\n",
    "        # Adds labels to each plot\n",
    "        item.set_xlabel('Longitude [Degrees West]')\n",
    "        item.set_ylabel('Latitude [Degrees North]')\n",
    "        # Adds grid lines to better orient ourselves E/W & N/S\n",
    "        gl = item.gridlines(crs = ccrs.PlateCarree(),draw_labels = True,color = 'k',alpha = 0.3)\n",
    "        gl.top_labels = False\n",
    "        gl.right_labels = False\n",
    "        gl.xlocator = mticker.FixedLocator([-160,-120,-80,-40])\n",
    "        # Adds coastlines\n",
    "        item.coastlines()\n",
    "        # Adds country borders\n",
    "        item.add_feature(cfeature.BORDERS)\n",
    "        # Adds Country subdivisions (e.g. States/Provinces)\n",
    "        item.add_feature(cfeature.NaturalEarthFeature(category='cultural', \n",
    "    name='admin_1_states_provinces_lines', scale='10m', facecolor='none', edgecolor='k'))\n",
    "        # These lines zoom us in onto the US\n",
    "        item.set_xlim(-130,-60)\n",
    "        item.set_ylim(25,50)\n",
    "\n",
    "\n",
    "# Sets the title for the plots\n",
    "ax[0,0].set_title('DJF')\n",
    "ax[0,1].set_title('JJA')\n",
    "ax[1,0].set_title('MAM')\n",
    "ax[1,1].set_title('SON')\n",
    "\n",
    "# Call plt.show() to suppress outputs from the final method call\n",
    "plt.show()"
   ]
  },
  {
   "cell_type": "markdown",
   "metadata": {},
   "source": [
    "In the examples above we have been using the Plate Carree map projection but there are others. The example below initializes the plots with two different map projections to show how this impacts the appearance of the plots. Map projections carry a lot of calculations behind the scenes and can sometimes make plotting slow.\n",
    "\n",
    "This is only a very small subset of possible map projections with cartopy, you can even make custom projection if you wanted to. As for which projection is best that is entirely dependent upon your data and what you're plotting. I recommend you use what projection your advisor or other group members recommend."
   ]
  },
  {
   "cell_type": "code",
   "execution_count": null,
   "metadata": {},
   "outputs": [],
   "source": [
    "# Initialize the figure\n",
    "fig = plt.figure(figsize = (12, 7))\n",
    "# add subplots to the figure with our desired projections\n",
    "# Mollweide Projection\n",
    "ax00 = plt.subplot(2,2,1,projection=ccrs.Mollweide())\n",
    "ax00.coastlines()\n",
    "ax00.set_title('Mollweide Projection')\n",
    "# Stereographic\n",
    "ax01 = plt.subplot(2,2,2,projection=ccrs.Stereographic())\n",
    "ax01.coastlines()\n",
    "ax01.set_title('Stereographic Projection')\n",
    "# Platecarreee\n",
    "ax10 = plt.subplot(2,2,3,projection=ccrs.PlateCarree())\n",
    "ax10.coastlines()\n",
    "ax10.set_title('Platecarree Projection')\n",
    "# Interrupted Goode Homolosine\n",
    "ax11 = plt.subplot(2,2,4,projection=ccrs.InterruptedGoodeHomolosine())\n",
    "ax11.coastlines()\n",
    "ax11.set_title('Interrupted Goode Homolosine')\n",
    "\n",
    "plt.show()"
   ]
  },
  {
   "cell_type": "markdown",
   "metadata": {},
   "source": [
    "Congrats! You have now covered the basics of Pandas, XArray, Matplotlib, and Cartopy! The next notebook contains a few examples for us to work through together."
   ]
  }
 ],
 "metadata": {
  "kernelspec": {
   "display_name": "tutorial_test",
   "language": "python",
   "name": "python3"
  },
  "language_info": {
   "codemirror_mode": {
    "name": "ipython",
    "version": 3
   },
   "file_extension": ".py",
   "mimetype": "text/x-python",
   "name": "python",
   "nbconvert_exporter": "python",
   "pygments_lexer": "ipython3",
   "version": "3.12.4"
  }
 },
 "nbformat": 4,
 "nbformat_minor": 2
}
