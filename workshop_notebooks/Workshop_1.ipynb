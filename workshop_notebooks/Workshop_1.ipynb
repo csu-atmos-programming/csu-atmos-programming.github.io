{
 "cells": [
  {
   "cell_type": "markdown",
   "metadata": {},
   "source": [
    "This is a Jupyter Notebook, a type of interactive way to run Python. This just means you can run small snippets of code in each cell and examine what they do. \n",
    "\n",
    "Jupyter notebooks have a .ipynb file extension and are used for things such as testing/developing code, exploring data, making figures, and are incredibly common in both earth sciences, and the data science world.\n",
    "\n",
    "This notebook is designed to run through the basics of Python, basic ideas in programming/coding, and examples of code/basic Python."
   ]
  },
  {
   "cell_type": "code",
   "execution_count": 1,
   "metadata": {},
   "outputs": [],
   "source": [
    "# This is a code cell, that means it contains code and when executed runs code. \n",
    "# Anything in a code cell following a '#' symbol is a comment and won't be executed.\n",
    "# Comments are used to explain code, reasoning, and remind yourself of things.\n",
    "# Triple quotes either ''' or \"\"\" are used to start/end longer comments such as below.\n",
    "# Comments are an important part of writing good code, and you should comment your code!\n",
    "# To run a cell you click the cell and press shift + enter/return"
   ]
  },
  {
   "cell_type": "code",
   "execution_count": 2,
   "metadata": {},
   "outputs": [],
   "source": [
    "'''Python is designed to utilize packages/libraries. These are pieces of code\n",
    "that you or someone else wrote. The benefit of this is that you don't need to\n",
    "reinvent the wheel every single time you code. If you had to make your own code\n",
    "to make plots from scratch you would most likely hate it. Below we are going to\n",
    "import some packages that are commonly used in Atmos. Sci.\n",
    "\n",
    "We do this using the \"import\" command. It is considered good practice to denote\n",
    "which packages you import that are standard libraries (those that come with Python),\n",
    "are public libraries (those that anyone can download), and private libraries (libraries\n",
    "that either you or someone else have made and is only available locally)'''\n",
    "\n",
    "##### IMPORTS GO HERE #####\n",
    "# STANDARD LIBRARIES #\n",
    "import datetime as dt # This is used to handle dates\n",
    "import timeit # This tells us how long code took to run\n",
    "# PUBLIC LIBRARIES #\n",
    "import numpy as np # This gives us access to advanced math and data structures\n",
    "# PRIVATE LIBRARIES #\n",
    "# we're not using any so this is blank, just putting it here so you can see it"
   ]
  },
  {
   "cell_type": "markdown",
   "metadata": {},
   "source": [
    "Let's define some variables and explore basic data types. Some basic data types are:\n",
    "- Integers\n",
    "- Floats\n",
    "- Strings\n",
    "- Booleans\n",
    "- Lists\n",
    "- Dicionaries\n",
    "\n",
    "There others that we aren't covering today like Sets, and Tuples that can be useful but have more nuance in both their applications, and best practices."
   ]
  },
  {
   "cell_type": "code",
   "execution_count": 3,
   "metadata": {},
   "outputs": [
    {
     "name": "stdout",
     "output_type": "stream",
     "text": [
      "2009/12/25 18:14:08\n"
     ]
    }
   ],
   "source": [
    "# Strings are snippets of text some example strings are defined below\n",
    "# In python variables are defined with the name of the variable followed by \n",
    "# an equals sign (=).\n",
    "ex_str = 'The quick brown fox jumped over the lazy dog.'\n",
    "# The value assigned to a variable in python can be overwritten by defining\n",
    "# a new variable with the same name, this can be dangerous if done wrong.\n",
    "ex_str = 'Turtles are pretty cool.'\n",
    "# Strings can contains numbers and a whole hose of other symbols\n",
    "ex_str_with_numbers = '6 is greater than 5.14472941 but < 7'\n",
    "# In Atmospheric science we often see strings as ways to store dates, or weather station names\n",
    "ex_date_str = '2009/12/25 18:14:08'\n",
    "ex_weather_stn_str = 'Christman Field'\n",
    "# We can use the built in print() function to examine variables\n",
    "print(ex_date_str)"
   ]
  },
  {
   "cell_type": "code",
   "execution_count": 49,
   "metadata": {},
   "outputs": [],
   "source": [
    "# In this box you'll write your first code\n",
    "# Create a string containing the phrase 'Hello World!', it can have any name\n",
    "# and then print that string\n",
    "\n"
   ]
  },
  {
   "cell_type": "code",
   "execution_count": 4,
   "metadata": {},
   "outputs": [
    {
     "name": "stdout",
     "output_type": "stream",
     "text": [
      "Converting the string to lower case:\n",
      "the-tiny-tiger-took-toms-tacos\n",
      "\n",
      "Converting the string to upper case:\n",
      "THE-TINY-TIGER-TOOK-TOMS-TACOS\n",
      "\n",
      "Splitting apart the string on the hypens:\n",
      "['The', 'Tiny', 'Tiger', 'Took', 'Toms', 'Tacos']\n"
     ]
    }
   ],
   "source": [
    "# Strings have many built in methods that allow us to work with them\n",
    "# We'll look at three for now .lower(), .upper(), and .split()\n",
    "ex_str_method = 'The-Tiny-Tiger-Took-Toms-Tacos'\n",
    "print('Converting the string to lower case:')\n",
    "print(ex_str_method.lower())\n",
    "print('\\nConverting the string to upper case:')\n",
    "print(ex_str_method.upper())\n",
    "print('\\nSplitting apart the string on the hypens:')\n",
    "print(ex_str_method.split('-'))"
   ]
  },
  {
   "cell_type": "code",
   "execution_count": 5,
   "metadata": {},
   "outputs": [
    {
     "name": "stdout",
     "output_type": "stream",
     "text": [
      "Addition example result:\n",
      "1\n",
      "Subtraction example result:\n",
      "9\n",
      "Multiplication example result:\n",
      "-20\n",
      "Division example result:\n",
      "-1.25\n",
      "Exponentiation example result:\n",
      "125\n"
     ]
    }
   ],
   "source": [
    "# Integers are whole numbers\n",
    "ex_int = 5\n",
    "ex_neg_int = -4\n",
    "# They can be added together\n",
    "int_addition_ex = ex_int + ex_neg_int\n",
    "print('Addition example result:')\n",
    "print(int_addition_ex)\n",
    "# They can be substracted from one another\n",
    "int_subtraction_ex = ex_int - ex_neg_int\n",
    "print('Subtraction example result:')\n",
    "print(int_subtraction_ex)\n",
    "# They can be multiplied together\n",
    "int_multiplication_ex = ex_int * ex_neg_int\n",
    "print('Multiplication example result:')\n",
    "print(int_multiplication_ex)\n",
    "# They can also be divided (this converts ints to floats which we'll talk about next)\n",
    "int_division_ex = ex_int / ex_neg_int\n",
    "print('Division example result:')\n",
    "print(int_division_ex)\n",
    "# We can also raise things to powers using **\n",
    "int_power_ex = ex_int**3\n",
    "print('Exponentiation example result:')\n",
    "print(int_power_ex)"
   ]
  },
  {
   "cell_type": "code",
   "execution_count": 6,
   "metadata": {},
   "outputs": [
    {
     "name": "stdout",
     "output_type": "stream",
     "text": [
      "Addition example result:\n",
      "0.3650000000000002\n",
      "Subtraction example result:\n",
      "4.465\n",
      "Multiplication example result:\n",
      "-4.950749999999999\n",
      "Division example result:\n",
      "-1.178048780487805\n",
      "Floor Division example result:\n",
      "-2.0\n"
     ]
    }
   ],
   "source": [
    "# Floats are any number with values after a decimal place\n",
    "# 1.25 is a float, but so is 10.000\n",
    "# They have the same properties as integers but provide more precision\n",
    "ex_flt = 2.415\n",
    "ex_neg_flt = -2.05\n",
    "# They can be added together\n",
    "flt_addition_ex = ex_flt + ex_neg_flt\n",
    "print('Addition example result:')\n",
    "print(flt_addition_ex)\n",
    "# They can be substracted from one another\n",
    "flt_subtraction_ex = ex_flt - ex_neg_flt\n",
    "print('Subtraction example result:')\n",
    "print(flt_subtraction_ex)\n",
    "# They can be multiplied together\n",
    "flt_multiplication_ex = ex_flt * ex_neg_flt\n",
    "print('Multiplication example result:')\n",
    "print(flt_multiplication_ex)\n",
    "# They can also be divided (this converts ints to floats which we'll talk about next)\n",
    "flt_division_ex = ex_flt / ex_neg_flt\n",
    "print('Division example result:')\n",
    "print(flt_division_ex)\n",
    "# If we want to force the result of division in python to be an int\n",
    "# we use two // for division instead of one, this rounds the number up\n",
    "# when you use // it is called floor division\n",
    "flt_floor_division_ex = ex_flt // ex_neg_flt\n",
    "print('Floor Division example result:')\n",
    "print(flt_floor_division_ex)\n"
   ]
  },
  {
   "cell_type": "code",
   "execution_count": 7,
   "metadata": {},
   "outputs": [
    {
     "name": "stdout",
     "output_type": "stream",
     "text": [
      "Mixed Operations example result:\n",
      "5.5\n",
      "Mixed Operations w/ Parentheses example result:\n",
      "5.0\n"
     ]
    }
   ],
   "source": [
    "# Python evaluates math from left to right but follows basic math rules\n",
    "# so multiplication and addition are done first\n",
    "mixed_operations_example = 5 * 1 + 1 / 2\n",
    "print('Mixed Operations example result:')\n",
    "print(mixed_operations_example)\n",
    "# We can use parentheses to make math operations be evaluated how we want them to be\n",
    "math_parentheses_example = 5 * (1 + 1) / 2\n",
    "print('Mixed Operations w/ Parentheses example result:')\n",
    "print(math_parentheses_example)\n"
   ]
  },
  {
   "cell_type": "code",
   "execution_count": 8,
   "metadata": {},
   "outputs": [
    {
     "name": "stdout",
     "output_type": "stream",
     "text": [
      "The int addition example value is 1.\n",
      "Rounding our float addition example to two places 0.37.\n",
      "Doing math inside the f-string: 7.42.\n"
     ]
    }
   ],
   "source": [
    "# When printing a string we'll often want to include some value we've calculated.\n",
    "# To include values in a string we utilize what is known as an f-string.\n",
    "# To do this you put a lower case f before the ' to start off a string,\n",
    "# and you put curly brackets {} around the name of the variable you want to print.\n",
    "print(f'The int addition example value is {int_addition_ex}.')\n",
    "# we can also do things such as round numbers\n",
    "print(f'Rounding our float addition example to two places {flt_addition_ex:.2f}.')\n",
    "# we can also do operations inside the brackets\n",
    "print(f'Doing math inside the f-string: {ex_int + ex_flt:.2f}.')"
   ]
  },
  {
   "cell_type": "code",
   "execution_count": 9,
   "metadata": {},
   "outputs": [
    {
     "name": "stdout",
     "output_type": "stream",
     "text": [
      "True\n"
     ]
    }
   ],
   "source": [
    "# Booleans (or Bools) are variables that have two possible values False (0), or True (1)\n",
    "ex_true_bool = True\n",
    "ex_false_bool = False\n",
    "# Bools can also be made by using operators such as ==, >, <, !=, <=, or >=\n",
    "ex_bool = 1 <= 2\n",
    "print(ex_bool)\n",
    "# Bools are really important for if/else statements which we'll cover later"
   ]
  },
  {
   "cell_type": "code",
   "execution_count": 10,
   "metadata": {},
   "outputs": [
    {
     "name": "stdout",
     "output_type": "stream",
     "text": [
      "List indexing example. Index 0: 1, Index 2: 0.5\n",
      "List negative indexing example. Index -1: 0.5, Index -3: 1\n",
      "Indexing a slice of a list example: [40, 41, 42, 43, 44, 45, 46, 47, 48, 49]\n",
      "Indexing a slice of a list using negative index example: [90, 91, 92, 93, 94, 95, 96, 97, 98, 99]\n",
      "Indexing every tenth number example: [0, 10, 20, 30, 40, 50, 60, 70, 80, 90]\n",
      "Indexing every even number on [40-60): [40, 42, 44, 46, 48, 50, 52, 54, 56, 58]\n"
     ]
    }
   ],
   "source": [
    "# Lists are the next basic data type we're going to look at.\n",
    "# Lists are collections of other variables, and have lots of cool properties.\n",
    "# Lists are defined with square brackets [].\n",
    "ex_list = [1,'a',0.5]\n",
    "# We access individual elements of a list through indexing.\n",
    "# In python indexing starts at 0 and progressively goes up.\n",
    "# For our example list the value at index 0 is 1\n",
    "# At index 2 is 0.5\n",
    "print(f'List indexing example. Index 0: {ex_list[0]}, Index 2: {ex_list[2]}')\n",
    "# In python we can also use negative indexing to access elements from the back\n",
    "# of the list going towards the front. Negative indices start at -1 and decrease from there\n",
    "print(f'List negative indexing example. Index -1: {ex_list[-1]}, Index -3: {ex_list[-3]}')\n",
    "# We can also index a list based on multiple groupings within by\n",
    "# using a colon : either before, after, or beween two numbers\n",
    "ex_list_to_index = list(range(100)) # This makes a list with numbers in the range [0-99]\n",
    "print(f'Indexing a slice of a list example: {ex_list_to_index[40:50]}')\n",
    "print(f'Indexing a slice of a list using negative index example: {ex_list_to_index[-10:]}')\n",
    "# We can also index every nth element of an array by adding a second :\n",
    "print(f'Indexing every tenth number example: {ex_list_to_index[::10]}')\n",
    "print(f'Indexing every even number on [40-60): {ex_list_to_index[40:60:2]}')\n"
   ]
  },
  {
   "cell_type": "code",
   "execution_count": 11,
   "metadata": {},
   "outputs": [
    {
     "name": "stdout",
     "output_type": "stream",
     "text": [
      "Our new modified list: [1, -9999, 0.5]\n",
      "Our list with a value appended to it: [1, -9999, 0.5, 'Pizza']\n",
      "Our list sans pizza: [1, -9999, 0.5]\n",
      "Putting pizza back into our list: [1, -9999, 0.5, 'Pizza']\n"
     ]
    }
   ],
   "source": [
    "# Lists are mutable, this means we can change them.\n",
    "# We can change what values are stored at each index\n",
    "ex_list[1] = -9999\n",
    "print(f'Our new modified list: {ex_list}')\n",
    "# We can also make our list bigger with the built-in method .append()\n",
    "ex_list.append('Pizza')\n",
    "print(f'Our list with a value appended to it: {ex_list}')\n",
    "# We can also delete elements at certain positions using .pop()\n",
    "ex_list.pop(3)\n",
    "print(f'Our list sans pizza: {ex_list}')\n",
    "# We can also add elements at a certain position using .insert()\n",
    "ex_list.insert(3,'Pizza')\n",
    "print(f'Putting pizza back into our list: {ex_list}')"
   ]
  },
  {
   "cell_type": "code",
   "execution_count": 12,
   "metadata": {},
   "outputs": [
    {
     "name": "stdout",
     "output_type": "stream",
     "text": [
      "Sorting our list with sorted(): [0.0, 1, 2, 3, 4, 5.0, 6.0, 7.0, 8, 9.0]\n",
      "Sorting a list of strings: ['Apple', 'Banana', 'Chocolate', 'Donut', 'Eggs', 'Fudge']\n",
      "Reversing a sorted list example: [9.0, 8, 7.0, 6.0, 5.0, 4, 3, 2, 1, 0.0]\n"
     ]
    }
   ],
   "source": [
    "# Because lists are random collections of items they're not always guaranteed to be sorted\n",
    "# if we want to sort a list we can use sorted()\n",
    "unsorted_list = [9.,1,5.,2,0.,3,6.,8,7.,4]\n",
    "print(f'Sorting our list with sorted(): {sorted(unsorted_list)}')\n",
    "# This also works on lists of strings\n",
    "unsorted_str_list = ['Banana','Fudge','Eggs','Apple','Chocolate','Donut']\n",
    "print(f'Sorting a list of strings: {sorted(unsorted_str_list)}')\n",
    "test = ['a',0,'z',100]\n",
    "# sorted() will not work on lists that aren't comparable data types\n",
    "# remove the # from the line below to see an error\n",
    "# sorted(['a',100,'z',-8])\n",
    "# We can also reverse a list using ::-1\n",
    "print(f'Reversing a sorted list example: {sorted(unsorted_list)[::-1]}')"
   ]
  },
  {
   "cell_type": "code",
   "execution_count": 13,
   "metadata": {},
   "outputs": [
    {
     "name": "stdout",
     "output_type": "stream",
     "text": [
      "Our combined lists: [1, -9999, 0.5, 'Pizza', 'Pizza', 'Cake', 'French Fries']\n",
      "List multiplication example: [0, 0, 0, 0, 0, 0, 0, 0, 0, 0]\n",
      "Checking list length example: 10000\n"
     ]
    }
   ],
   "source": [
    "# We can also add lists together, this appends the second list to the end of the first\n",
    "ex_list2 = ['Pizza','Cake','French Fries']\n",
    "ex_combined_lists = ex_list + ex_list2\n",
    "print(f'Our combined lists: {ex_combined_lists}')\n",
    "# We can also multiply a list by a whole number to make it repeat\n",
    "print(f'List multiplication example: {[0]*10}')\n",
    "# The length of a list can be checked using the len() function\n",
    "ex_long_list = [0]*10000\n",
    "print(f'Checking list length example: {len(ex_long_list)}')"
   ]
  },
  {
   "cell_type": "code",
   "execution_count": 14,
   "metadata": {},
   "outputs": [
    {
     "name": "stdout",
     "output_type": "stream",
     "text": [
      "min() and max() example, Min: 0, Max: 99\n"
     ]
    }
   ],
   "source": [
    "# Much like how we can use sorted() to sort a list we can use the built\n",
    "# in functions max() and min() to get the smallest and largest value\n",
    "# of a list of numbers\n",
    "print(f'min() and max() example, Min: {min(ex_list_to_index)}, Max: {max(ex_list_to_index)}')"
   ]
  },
  {
   "cell_type": "code",
   "execution_count": 15,
   "metadata": {},
   "outputs": [
    {
     "name": "stdout",
     "output_type": "stream",
     "text": [
      "Data type conversion example: <class 'int'>, <class 'float'>, <class 'str'>\n",
      "Data type conversion example: 3, 3.0, 3\n",
      "List conversion example: ['A', 'p', 'p', 'l', 'e']\n"
     ]
    }
   ],
   "source": [
    "# Data types can also be converted between each other.\n",
    "# For example an int can easily become a float, a Bool can become an int or float,\n",
    "# and an int, a float, and a bool can all become strings.\n",
    "# This data-type conversion is done with int(), str(), float(), bool(), this is called type-casting.\n",
    "# The data-type of a variable can be checked with the type() function.\n",
    "print(f'Data type conversion example: {type(3)}, {type(float(3))}, {type(str(3))}')\n",
    "print(f'Data type conversion example: {3}, {float(3)}, {str(3)}')\n",
    "# Unless the string is purely a number you cannot convert it to another data type\n",
    "# We can also convert any string to a list with list()\n",
    "# This does have the property of splitting apart strings however\n",
    "print(f'List conversion example: {list('Apple')}')"
   ]
  },
  {
   "cell_type": "code",
   "execution_count": 71,
   "metadata": {},
   "outputs": [
    {
     "name": "stdout",
     "output_type": "stream",
     "text": [
      "The price of a pizza is: 8.99\n",
      "{'Pizza': 8.99, 'Breadsticks': 3.95, 'Soda': 1.25, 'Calzone': 7.99}\n",
      "{'Pizza': 8.99, 'Breadsticks': 3.95, 'Soda': 1.25, 'Calzone': 6.99}\n"
     ]
    }
   ],
   "source": [
    "# The last basic data type we're going to cover are dictionaries.\n",
    "# Dictionaries are similar to lists in that they store things\n",
    "# except where we use numbers to index a list we use 'keys' to\n",
    "# index a dictionary. Keys can have many possible data types but\n",
    "# typically it is a string.\n",
    "# You define a string with {} with the keys separated from the values\n",
    "# by :\n",
    "ex_dict = {'Pizza':8.99, 'Breadsticks':3.95, 'Soda':1.25}\n",
    "print(f'The price of a pizza is: {ex_dict['Pizza']}')\n",
    "# Dictionaries can be expanded quite easily by simply\n",
    "# setting the dictionary with an unused key to some new value\n",
    "ex_dict['Calzone'] = 7.99\n",
    "print(ex_dict)\n",
    "# You can also do the same thing to overwrite a value stored\n",
    "# with a specific key\n",
    "ex_dict['Calzone'] = 6.99\n",
    "print(ex_dict)\n",
    "# Dictionaries cannot have duplicate keys, keys are unique"
   ]
  },
  {
   "cell_type": "code",
   "execution_count": 69,
   "metadata": {},
   "outputs": [
    {
     "name": "stdout",
     "output_type": "stream",
     "text": [
      "The keys for our dictionary are: ['Pizza', 'Breadsticks', 'Soda', 'Calzone']\n",
      "The values for our dictionary are: [8.99, 3.95, 1.25, 7.99]\n",
      "None\n"
     ]
    }
   ],
   "source": [
    "# The keys that access values in a dictionary can be accessed via\n",
    "# calling the .keys() method, this can be bound by the function list()\n",
    "# to turn the keys into a list we can iterate over\n",
    "print(f'The keys for our dictionary are: {list(ex_dict.keys())}')\n",
    "# the values can be accessed in the same way with the .values() method\n",
    "print(f'The values for our dictionary are: {list(ex_dict.values())}')\n",
    "# If you have a very large dictionary and you want to check if a key\n",
    "# is used in that dictionary you can use the .get() method\n",
    "# If it returns a value of None that means the key does not exist\n",
    "# within that specific dictionary\n",
    "print(ex_dict.get('Soup'))"
   ]
  },
  {
   "cell_type": "markdown",
   "metadata": {},
   "source": [
    "Now that we've covered basic data types let's look at if/else statements.\n",
    "\n",
    "If/else statements are ways to do different things with code based on the values of your variables, and allow you to do different things with your code."
   ]
  },
  {
   "cell_type": "code",
   "execution_count": 56,
   "metadata": {},
   "outputs": [
    {
     "name": "stdout",
     "output_type": "stream",
     "text": [
      "Case 2 True\n"
     ]
    }
   ],
   "source": [
    "# This is a simple example and feel free to change the values of the two variables below.\n",
    "ife_ex_val1 = 4\n",
    "ife_ex_val2 = 3\n",
    "ife_ex_val3 = 8\n",
    "# There are multiple expressions that can be done\n",
    "# You can have an expression by itself or paired with another\n",
    "# using the operator 'and' or the operator 'or'\n",
    "\n",
    "if ife_ex_val1 < ife_ex_val2 and ife_ex_val2 < ife_ex_val3:\n",
    "    print('Case 1 True')\n",
    "elif ife_ex_val1 != ife_ex_val2 or ife_ex_val3/ife_ex_val1 == 2:\n",
    "    print('Case 2 True')\n",
    "else:\n",
    "    print('Case 3 True')"
   ]
  },
  {
   "cell_type": "markdown",
   "metadata": {},
   "source": [
    "Now let's look at loops.\n",
    "\n",
    "Loops are ways to repeat pieces of code multiple times. There are two types of loops, for loops, and while loops.\n",
    "\n",
    "For loops repeat a certain number of times, while loops continue until the boolean that defined them becomes false or the loop is broken. It is very easy to accidentally make an infinite loop that will never end so be careful when looping."
   ]
  },
  {
   "cell_type": "code",
   "execution_count": 18,
   "metadata": {},
   "outputs": [
    {
     "name": "stdout",
     "output_type": "stream",
     "text": [
      "Range List Loop\n",
      "0\n",
      "1\n",
      "2\n",
      "3\n",
      "4\n",
      "Iterator List Loop\n",
      "0\n",
      "1\n",
      "2\n",
      "3\n",
      "4\n"
     ]
    }
   ],
   "source": [
    "# For loops are defined by what you're looping over, this can be elements of a list, or values generated by the range() function\n",
    "loop_example_list = [0,1,2,3,4]\n",
    "\n",
    "# Looping over a list via range\n",
    "print('Range List Loop')\n",
    "for i in range(len(loop_example_list)):\n",
    "    print(loop_example_list[i])\n",
    "# Looping over a list via the items in the list\n",
    "print('Iterator List Loop')\n",
    "for item in loop_example_list:\n",
    "    print(item)\n",
    "\n",
    "# both ways of iterating over a list have their place and knowing which to use is\n",
    "# a skill that you will develop over time"
   ]
  },
  {
   "cell_type": "code",
   "execution_count": 74,
   "metadata": {},
   "outputs": [
    {
     "name": "stdout",
     "output_type": "stream",
     "text": [
      "i:0, j:0\n",
      "i:0, j:1\n",
      "i:0, j:2\n",
      "i:1, j:0\n",
      "i:1, j:1\n",
      "i:1, j:2\n",
      "i:2, j:0\n",
      "i:2, j:1\n",
      "i:2, j:2\n"
     ]
    }
   ],
   "source": [
    "# We can also put loops inside of loops, these are called nested loops\n",
    "# nested loops extend the functionality of loops but can quickly become slow\n",
    "# while powerful they should be used sparingly\n",
    "# In a nested loop the interior loop goes to completion before the outer loop\n",
    "# finishes a single iteration\n",
    "for i in range(3):\n",
    "    for j in range(3):\n",
    "        print(f'i:{i}, j:{j}')"
   ]
  },
  {
   "cell_type": "code",
   "execution_count": 19,
   "metadata": {},
   "outputs": [
    {
     "name": "stdout",
     "output_type": "stream",
     "text": [
      "While Loop Break Keyword\n",
      "7\n",
      "While Loop with Conditional\n",
      "3\n",
      "4\n",
      "5\n",
      "6\n",
      "7\n"
     ]
    }
   ],
   "source": [
    "# While loops continue while some conditions is true, you exit them either by making the condition untrue\n",
    "# or by using the keyword break.\n",
    "\n",
    "# While loop using the break keyword pair with if statement\n",
    "print('While Loop Break Keyword')\n",
    "while(True):\n",
    "    print('7')\n",
    "    if 6 < 7:\n",
    "        break\n",
    "\n",
    "# While loop using a value we modify\n",
    "print('While Loop with Conditional')\n",
    "while_test_val = 3\n",
    "while(while_test_val <= 7):\n",
    "    print(while_test_val)\n",
    "    while_test_val += 1 # this is another way to add, this adds 1 to while_test_val each time it's evaluated"
   ]
  },
  {
   "cell_type": "code",
   "execution_count": 20,
   "metadata": {},
   "outputs": [
    {
     "name": "stdout",
     "output_type": "stream",
     "text": [
      "List Generator Example Result: [1, 4, 9, 16, 25, 36, 49, 64, 81, 100]\n"
     ]
    }
   ],
   "source": [
    "# Lists can be generated via loops, this is called a list comprehension \n",
    "# and is the fastest/most efficient way to generate lists in many circumstances\n",
    "list_comp_example = [(x+1)**2 for x in range(10)]\n",
    "print(f'List Comprehension Example Result: {list_comp_example}')"
   ]
  },
  {
   "cell_type": "code",
   "execution_count": 79,
   "metadata": {},
   "outputs": [
    {
     "name": "stdout",
     "output_type": "stream",
     "text": [
      "Dict Comprehension Example: {'A': 1, 'B': 2, 'C': 3, 'D': 4}\n"
     ]
    }
   ],
   "source": [
    "# There are also dictionary comprehension where you loop\n",
    "# over zipped together pairs of key,value pairs\n",
    "# that are combined using the zip() function\n",
    "key_list = ['A','B','C','D']\n",
    "value_list = [1,2,3,4]\n",
    "dict_comp_example = {key:value for key,value in zip(key_list,value_list)}\n",
    "print(f'Dict Comprehension Example: {dict_comp_example}')"
   ]
  },
  {
   "cell_type": "code",
   "execution_count": 21,
   "metadata": {},
   "outputs": [
    {
     "name": "stdout",
     "output_type": "stream",
     "text": [
      "167 μs ± 2.49 μs per loop (mean ± std. dev. of 7 runs, 10,000 loops each)\n"
     ]
    }
   ],
   "source": [
    "%%timeit\n",
    "# This code block times how long it takes to generate a loop via list comprehension\n",
    "# it will take a while because it does many many interations\n",
    "timed_list_comp = [(x**(1/80)/(x+1)) for x in range(1000)]"
   ]
  },
  {
   "cell_type": "code",
   "execution_count": 22,
   "metadata": {},
   "outputs": [
    {
     "name": "stdout",
     "output_type": "stream",
     "text": [
      "175 μs ± 1.89 μs per loop (mean ± std. dev. of 7 runs, 10,000 loops each)\n"
     ]
    }
   ],
   "source": [
    "%%timeit\n",
    "# This is the same list generated via a for loop and append\n",
    "timed_list_comp = []\n",
    "for x in range(1000):\n",
    "    timed_list_comp.append((x**(1/80)/(x+1)))\n"
   ]
  },
  {
   "cell_type": "markdown",
   "metadata": {},
   "source": [
    "The difference between a list comprehension and a for-loop list is small in this example but the more elements you work with (e.g. hourly global reanalysis data for 100 years [~1,000,000,000,000 elements]), and the more complex the operation you're doing, the larger the difference. "
   ]
  },
  {
   "cell_type": "markdown",
   "metadata": {},
   "source": [
    "Now let's look at a non-standard data type, namely datetime objects and numpy arrays. These are very widely used in Atmospheric Science and data science."
   ]
  },
  {
   "cell_type": "code",
   "execution_count": 23,
   "metadata": {},
   "outputs": [
    {
     "name": "stdout",
     "output_type": "stream",
     "text": [
      "2024-01-01 00:00:00 2000-01-01 00:00:00\n"
     ]
    }
   ],
   "source": [
    "# Dealing with dates can be complicated, the datetime package makes this easier\n",
    "# a datetime object is defined by calling the datetime package we imported earlier\n",
    "# Datetime objects are useful because it allows us to work with dates that\n",
    "# make sense to people, versus those that work better for computers \n",
    "# (e.g. seconds since Jan. 1st 1970)\n",
    "example_date = dt.datetime(2024,1,1)\n",
    "example_date2 = dt.datetime(2000,1,1)\n",
    "print(example_date,example_date2)"
   ]
  },
  {
   "cell_type": "code",
   "execution_count": 24,
   "metadata": {},
   "outputs": [
    {
     "name": "stdout",
     "output_type": "stream",
     "text": [
      "2024-04-20 00:00:00\n",
      "8766 days, 0:00:00\n"
     ]
    }
   ],
   "source": [
    "# We can modify date time objects using timedelta objects\n",
    "# Modify the timedelta objects by change the number of weeks,days,hours,minutes,seconds\n",
    "# the values can be positive or negative\n",
    "print(example_date + dt.timedelta(weeks = 0,days = 111, hours = -24, minutes = 0, seconds = 0))\n",
    "# we can also subtract two dates to get their difference\n",
    "example_date_timedelta = example_date - example_date2\n",
    "print(example_date_timedelta)"
   ]
  },
  {
   "cell_type": "code",
   "execution_count": 25,
   "metadata": {},
   "outputs": [
    {
     "name": "stdout",
     "output_type": "stream",
     "text": [
      "False\n",
      "2024\n",
      "0\n",
      "757382400.0\n",
      "2024-08-08 09:26:02.417492\n",
      "3\n"
     ]
    }
   ],
   "source": [
    "# We can use boolean operations on datetime objects\n",
    "print(example_date2 > example_date)\n",
    "# We can also extract specific pieces from each datetime object\n",
    "print(example_date.year)\n",
    "# Timedelta objects immediately group into days when possible\n",
    "# we can extract the total number of seconds using the .total_seconds() method\n",
    "print(example_date_timedelta.seconds)\n",
    "print(example_date_timedelta.total_seconds())\n",
    "# we can also get the current date\n",
    "print(dt.datetime.today())\n",
    "# As well as the day of the week. 0 = Monday, 6 = Sunday\n",
    "print(dt.datetime.today().weekday())"
   ]
  },
  {
   "cell_type": "markdown",
   "metadata": {},
   "source": [
    "NumPy is a package that has an extensive library of math, and data structures built into it. The core of this package is the data type we're going to talk about next NumPy arrays"
   ]
  },
  {
   "cell_type": "code",
   "execution_count": 26,
   "metadata": {},
   "outputs": [
    {
     "name": "stdout",
     "output_type": "stream",
     "text": [
      "Initial content of the array we just created: [0 1 2 3 4]\n",
      "Element 0 type: <class 'numpy.str_'>, Element 1 type: <class 'numpy.str_'>\n"
     ]
    }
   ],
   "source": [
    "# A NumPy array is like a list, it can contain anything, although it has certain restrictions.\n",
    "# In exchange for this restrictions there is a lot more we can do with numpy arrays that we\n",
    "# can do with lists. NumPy arrays, if used properly, can be faster than lists.\n",
    "# A NumPy array can be defined in multiple ways.\n",
    "# The first way is by simply converting a pre-existing list, either after\n",
    "# we have defined the list or during creation\n",
    "numpy_array_creation_ex = np.array([i for i in range(50)])\n",
    "print(f'Initial content of the array we just created: {numpy_array_creation_ex[0:5]}')\n",
    "# Numpy arrays cannot have mixed typed contents like a list. If it can\n",
    "# numpy will try and convert everything to the same data type such as with\n",
    "# this array below.\n",
    "np_mixed_type_array_ex = np.array([1.1,'a'])\n",
    "print(f'Element 0 type: {type(np_mixed_type_array_ex[0])}, Element 1 type: {type(np_mixed_type_array_ex[1])}')"
   ]
  },
  {
   "cell_type": "code",
   "execution_count": 27,
   "metadata": {},
   "outputs": [
    {
     "name": "stdout",
     "output_type": "stream",
     "text": [
      "5\n"
     ]
    }
   ],
   "source": [
    "# We can also make lists of a pre-determined size\n",
    "# Say we need an array to store 10,000 strings we can make one to store the \n",
    "# data quite easily\n",
    "str_array_ex = np.empty(10000,dtype=str) # this array is empty but is designed to hold 10,000 strings\n",
    "# but once a numpy array expects a certain data type it will not accept a different one\n",
    "# unless of course they are ints/floats, it is fine with those being together\n",
    "str_array_ex[0] = 55 # this doesn't yield an error but let's print this value\n",
    "print(str_array_ex[0])"
   ]
  },
  {
   "cell_type": "code",
   "execution_count": 28,
   "metadata": {},
   "outputs": [
    {
     "name": "stdout",
     "output_type": "stream",
     "text": [
      "[0.  0.1 0.2 0.3 0.4 0.5 0.6 0.7 0.8 0.9 1. ]\n",
      "[0.  0.1 0.2 0.3 0.4 0.5 0.6 0.7 0.8 0.9 1. ]\n"
     ]
    }
   ],
   "source": [
    "# We can also make lists containing specific values\n",
    "# The np.linspace() function lets us get N evenly spaced values [i.e. 11]\n",
    "# between a starting value [i.e. 0], and an inclusive stopping value [i.e. 1]\n",
    "all_tenths_linspace = np.linspace(0,1,11)\n",
    "print(all_tenths_linspace)\n",
    "# The np.arange() function lets us get every between two numbers (non-inclusive)\n",
    "# based on the starting value [i.e. 0], a stopping value[i.e. 1.1], and a step value [i.e. 0.1]\n",
    "all_tenths_arange = np.arange(0,1.1,0.1)\n",
    "print(all_tenths_arange)"
   ]
  },
  {
   "cell_type": "code",
   "execution_count": 29,
   "metadata": {},
   "outputs": [],
   "source": [
    "# With lists we could modify the size of the list using .append() or .pop()\n",
    "# while you can technically do similar stuff with numpy arrays it isn't advisable\n",
    "# Let's use timeit to see how slow that can be"
   ]
  },
  {
   "cell_type": "code",
   "execution_count": 30,
   "metadata": {},
   "outputs": [
    {
     "name": "stdout",
     "output_type": "stream",
     "text": [
      "2.6 ms ± 8.14 μs per loop (mean ± std. dev. of 7 runs, 100 loops each)\n"
     ]
    }
   ],
   "source": [
    "%%timeit\n",
    "time_test = np.array([])\n",
    "for i in range(1000):\n",
    "    time_test = np.append(time_test,i**2/(i+1))"
   ]
  },
  {
   "cell_type": "code",
   "execution_count": 31,
   "metadata": {},
   "outputs": [
    {
     "name": "stdout",
     "output_type": "stream",
     "text": [
      "118 μs ± 767 ns per loop (mean ± std. dev. of 7 runs, 10,000 loops each)\n"
     ]
    }
   ],
   "source": [
    "%%timeit\n",
    "time_test = []\n",
    "for i in range(1000):\n",
    "    time_test.append(i**2/(i+1))"
   ]
  },
  {
   "cell_type": "code",
   "execution_count": 32,
   "metadata": {},
   "outputs": [
    {
     "name": "stdout",
     "output_type": "stream",
     "text": [
      "Our now squared array: [  1   4   9  16  25  36  49  64  81 100]\n",
      "Result of doing math on array: [50 55 60 65 70 75 80 85 90 95]\n",
      "Returning every other number from the back: [95 85 75 65 55]\n"
     ]
    }
   ],
   "source": [
    "# numpy arrays let you apply math operations to the entire array, and doing so\n",
    "# is incredibly quick if you use the built in numpy math operations\n",
    "array_to_square = np.array([i+1 for i in range(1000000)])\n",
    "# if this was a list and we wanted to square all the values in it we would\n",
    "# be forced to loop over the entire list, this is very slow (would take minutes)\n",
    "# but with numpy arrays we can do something else.\n",
    "squared_array = np.square(array_to_square)\n",
    "print(f'Our now squared array: {squared_array[0:10]}')\n",
    "# We can also apply operation to the array like we would a regular float/int\n",
    "array_to_math = np.array([i for i in range(10)]) * 5 + 50\n",
    "print(f'Result of doing math on array: {array_to_math}')\n",
    "# Indexing of 1-D numpy arrays is the exact same as lists\n",
    "print(f'Returning every other number from the back: {array_to_math[::-2]}')"
   ]
  },
  {
   "cell_type": "code",
   "execution_count": 33,
   "metadata": {},
   "outputs": [
    {
     "name": "stdout",
     "output_type": "stream",
     "text": [
      "[[[0. 0. 0.]\n",
      "  [0. 0. 0.]\n",
      "  [0. 0. 0.]]\n",
      "\n",
      " [[0. 0. 0.]\n",
      "  [0. 0. 0.]\n",
      "  [0. 0. 0.]]\n",
      "\n",
      " [[0. 0. 0.]\n",
      "  [0. 0. 0.]\n",
      "  [0. 0. 0.]]]\n",
      "Shape of our numpy array: (3, 3, 3)\n"
     ]
    }
   ],
   "source": [
    "# Unlike lists, numpy arrays work really well with 2D, 3D, 4D, and beyond data\n",
    "# Let's make a 3-D array just to show \n",
    "multi_dimension_array = np.zeros((3,3,3)) # this is a 3x3x3 array containing only zeros\n",
    "print(multi_dimension_array)\n",
    "# Because numpy arrays can be in many different shapes we often need to see\n",
    "# just how big the arrays are. We can do this with the .shape property\n",
    "print(f'Shape of our numpy array: {multi_dimension_array.shape}')\n",
    "# Lot's of atmospheric science data is 3D or 4D so getting used to multi-dimensional data is key\n"
   ]
  },
  {
   "cell_type": "code",
   "execution_count": 34,
   "metadata": {},
   "outputs": [
    {
     "name": "stdout",
     "output_type": "stream",
     "text": [
      "How this array originally looks:\n",
      " [[[ 1  2  3]\n",
      "  [ 4  5  6]\n",
      "  [ 7  8  9]]\n",
      "\n",
      " [[10 11 12]\n",
      "  [13 14 15]\n",
      "  [16 17 18]]\n",
      "\n",
      " [[19 20 21]\n",
      "  [22 23 24]\n",
      "  [25 26 27]]]\n"
     ]
    }
   ],
   "source": [
    "# For multi-dimensional arrays indexing is a little different\n",
    "# Let's make a numpy array where each of the elements has different values\n",
    "array_to_index = np.reshape(np.array([i+1 for i in range(27)]),(3,3,3))\n",
    "print(f'How this array originally looks:\\n {array_to_index}')"
   ]
  },
  {
   "cell_type": "code",
   "execution_count": 35,
   "metadata": {},
   "outputs": [
    {
     "name": "stdout",
     "output_type": "stream",
     "text": [
      "Indexing 0 of the first dimension:\n",
      " [[1 2 3]\n",
      " [4 5 6]\n",
      " [7 8 9]]\n",
      "Indexing 0 of the second dimension:\n",
      " [[ 1  2  3]\n",
      " [10 11 12]\n",
      " [19 20 21]]\n",
      "Indexing 0 of the third dimension:\n",
      " [[ 1  4  7]\n",
      " [10 13 16]\n",
      " [19 22 25]]\n"
     ]
    }
   ],
   "source": [
    "# Because this is a 3-D array it has three different indices to access values within it\n",
    "# (for real data we can view this as maybe a time, a lat, and a lon).\n",
    "# Let's see what happens if we index element 0 of the first index\n",
    "# To do this we do [0,:,:] this says we want the 0th element of the first dimension\n",
    "# and the : means we want everything of the 2nd and 3rd dimension\n",
    "# the commas separating the numbers tell python which dimension you want to index\n",
    "print(f'Indexing 0 of the first dimension:\\n {array_to_index[0,:,:]}') \n",
    "print(f'Indexing 0 of the second dimension:\\n {array_to_index[:,0,:]}')\n",
    "print(f'Indexing 0 of the third dimension:\\n {array_to_index[:,:,0]}')"
   ]
  },
  {
   "cell_type": "code",
   "execution_count": 36,
   "metadata": {},
   "outputs": [
    {
     "name": "stdout",
     "output_type": "stream",
     "text": [
      "Random numbers above 20: [9 9 8 9 8 8 9 9]\n"
     ]
    }
   ],
   "source": [
    "# Another cool feature of numpy arrays is that we can easily search them\n",
    "# for specific values\n",
    "# The line below creates a randomized array of 40 numbers between 0-10\n",
    "random_nums = np.random.randint(0,10,40)\n",
    "# Using the np.where() function we get a numpy array of indices for values\n",
    "# we care about\n",
    "inds_above_20 = np.where(random_nums > 7)\n",
    "# We can use this numpy array to subset our array\n",
    "print(f'Random numbers above 20: {random_nums[inds_above_20]}')\n"
   ]
  },
  {
   "cell_type": "code",
   "execution_count": 37,
   "metadata": {},
   "outputs": [
    {
     "name": "stdout",
     "output_type": "stream",
     "text": [
      "Maximum value of our array: 55\n",
      "Absolute value of items in our array: [20 55 12  1]\n"
     ]
    }
   ],
   "source": [
    "# Numpy also contains useful functions to understand data with.\n",
    "# The function np.max() returns the maximum value of a list or numpy array.\n",
    "# np.abs() takes an absolute value of either a float, int, list, or numpy array.\n",
    "numpy_function_array_ex = np.array([-20,55,12,-1])\n",
    "print(f'Maximum value of our array: {np.max(numpy_function_array_ex)}')\n",
    "print(f'Absolute value of items in our array: {np.abs(numpy_function_array_ex)}')\n",
    "# We can also do things such as take a mean with np.mean(), the median with np.median()\n",
    "# There are a wide array of numpy functions that will make your life easier. \n",
    "# To learn about them I recommend the documentation on numpy.\n",
    "# https://numpy.org/doc/2.0/"
   ]
  },
  {
   "cell_type": "markdown",
   "metadata": {},
   "source": [
    "Now let's look at functions.\n",
    "\n",
    "Functions are small snippets of code designed to accomplish a single task that we want to reuse quickly and easily."
   ]
  },
  {
   "cell_type": "code",
   "execution_count": 38,
   "metadata": {},
   "outputs": [
    {
     "name": "stdout",
     "output_type": "stream",
     "text": [
      "-40 Fahrenheit Test Conversion. Expected: -40.0, Returned: -40.0\n",
      "212 Fahrenheit Test Conversion. Expected: 100.0, Returned: 100.0\n"
     ]
    }
   ],
   "source": [
    "# below is an example of a simple function in python\n",
    "def convert_f_to_c(temp:float) -> float:\n",
    "    '''\n",
    "        This functions converts temperatures in fahrenheit to celsius.\n",
    "\n",
    "        Parameters:\n",
    "            - temp (float): The temperature in fahrenheit\n",
    "\n",
    "        Outputs:\n",
    "            - conv_temp (float): The temperature in celsius\n",
    "    '''\n",
    "\n",
    "    conv_temp = 5*(temp - 32)/9\n",
    "\n",
    "    return conv_temp\n",
    "\n",
    "# let's test out our function to make sure it works, we'll test it at -40, and 212 fahrenheit\n",
    "print(f'-40 Fahrenheit Test Conversion. Expected: -40.0, Returned: {convert_f_to_c(-40)}')\n",
    "print(f'212 Fahrenheit Test Conversion. Expected: 100.0, Returned: {convert_f_to_c(212)}')\n"
   ]
  },
  {
   "cell_type": "code",
   "execution_count": 39,
   "metadata": {},
   "outputs": [
    {
     "name": "stdout",
     "output_type": "stream",
     "text": [
      "32 Fahrenheit Test Conversion. Expected: 273.15, Returned 273.15\n"
     ]
    }
   ],
   "source": [
    "# You can call functions inside functions (this allows us to chain functions together)\n",
    "# this is a very powerful ability that helps lead to well-written code and provides\n",
    "# unique functionality \n",
    "def convert_f_to_kelvin(temp:float) -> float:\n",
    "    '''\n",
    "        This functions converts temperatures in fahrenheit to kelvin.\n",
    "\n",
    "        Parameters:\n",
    "            - temp (float): The temperature in fahrenheit\n",
    "\n",
    "        Outputs:\n",
    "            - conv_temp (float): The temperature in kelvin\n",
    "    '''\n",
    "\n",
    "    # Get the temperature in C using our function from earlier\n",
    "    temp_in_c = convert_f_to_c(temp)\n",
    "    # now convert to kelvin\n",
    "    conv_temp = temp_in_c + 273.15\n",
    "\n",
    "    return conv_temp\n",
    "\n",
    "print(f'32 Fahrenheit Test Conversion. Expected: 273.15, Returned {convert_f_to_kelvin(32)}')"
   ]
  },
  {
   "cell_type": "code",
   "execution_count": 40,
   "metadata": {},
   "outputs": [],
   "source": [
    "# functions can be applied to lists easily either by making a new list\n",
    "# via a list comprehension, or using pythons built in map() function\n",
    "# list comprehensions are still preferred over map() but I just want to \n",
    "# mention them because there is lots of older code that uses map()\n",
    "# particularly code that comes from computer scientists"
   ]
  },
  {
   "cell_type": "code",
   "execution_count": 41,
   "metadata": {},
   "outputs": [
    {
     "name": "stdout",
     "output_type": "stream",
     "text": [
      "1.7 ms ± 11 μs per loop (mean ± std. dev. of 7 runs, 1,000 loops each)\n"
     ]
    }
   ],
   "source": [
    "%%timeit\n",
    "test_list = [-40,212,100,-5,78,95,53,29,15,0.4,66,72,58,35,52]*1000\n",
    "converted_list_map = list(map(convert_f_to_c,test_list))"
   ]
  },
  {
   "cell_type": "code",
   "execution_count": 42,
   "metadata": {},
   "outputs": [
    {
     "name": "stdout",
     "output_type": "stream",
     "text": [
      "1.66 ms ± 13.2 μs per loop (mean ± std. dev. of 7 runs, 1,000 loops each)\n"
     ]
    }
   ],
   "source": [
    "%%timeit\n",
    "test_list = [-40,212,100,-5,78,95,53,29,15,0.4,66,72,58,35,52]*1000\n",
    "converted_list_comp = [convert_f_to_c(temp) for temp in test_list]"
   ]
  },
  {
   "cell_type": "code",
   "execution_count": 48,
   "metadata": {},
   "outputs": [
    {
     "name": "stdout",
     "output_type": "stream",
     "text": [
      "830 μs ± 21.7 μs per loop (mean ± std. dev. of 7 runs, 1,000 loops each)\n"
     ]
    }
   ],
   "source": [
    "%%timeit\n",
    "# We can also apply our function to a numpy array quite easily\n",
    "# This ends up being very fast because of how well made numpy is\n",
    "test_array = np.array([-40,212,100,-5,78,95,53,29,15,0.4,66,72,58,35,52]*1000)\n",
    "converted_array = np.apply_along_axis(convert_f_to_c,0,test_array)"
   ]
  },
  {
   "cell_type": "markdown",
   "metadata": {},
   "source": [
    "Classes are the final thing we'll cover today.\n",
    "\n",
    "Classes are one a way to combine data storage and functions together. When you make a class you make a new type of 'object'. The data types we have been working with so far are all secretly objects."
   ]
  },
  {
   "cell_type": "code",
   "execution_count": 44,
   "metadata": {},
   "outputs": [],
   "source": [
    "# Here is an example of a class for a weather station object\n",
    "# This weather station class stores information such as its name, and geographic position\n",
    "# it also has a (for now) empty function to convert an observed temperature and RH to dewpoint\n",
    "class weather_station():\n",
    "    def __init__(self, name:str,lat:float,lon:float) -> None:\n",
    "        self.name = name\n",
    "        self.lat = lat\n",
    "        self.lon = lon\n",
    "        self.temp = None\n",
    "        self.RH = None\n",
    "        self.dew_pt_temp = None\n",
    "    \n",
    "    def observe_temp_and_rh(self,temp:float,RH:float) -> None:\n",
    "        '''\n",
    "            Given a temperature provided by the user set the weather station's\n",
    "            current observed temp to that value.\n",
    "\n",
    "            Parameters:\n",
    "                - temp (float): The temperature in fahrenheit\n",
    "\n",
    "            Outputs:\n",
    "                - None\n",
    "        '''\n",
    "        # This sets the the temperature and relative humidity values\n",
    "        # that is stored by the class\n",
    "        # Calling self.{insert property name} either calls that value \n",
    "        # and is used to interact with data stored within the class object\n",
    "        self.temp = temp\n",
    "        self.RH = RH\n",
    "\n",
    "        return None\n",
    "\n",
    "    def convert_f_to_c(temp:float) -> float:\n",
    "        '''\n",
    "            This functions converts temperatures in fahrenheit to celsius.\n",
    "\n",
    "            Parameters:\n",
    "                - temp (float): The temperature in fahrenheit\n",
    "\n",
    "            Outputs:\n",
    "                - conv_temp (float): The temperature in celsius\n",
    "        '''\n",
    "\n",
    "        conv_temp = 5*(temp - 32)/9\n",
    "\n",
    "        return conv_temp\n",
    "    \n",
    "    def calculate_dew_point(self) -> float:\n",
    "        '''\n",
    "            I am leaving this intentionally blank for now, we'll fill it in\n",
    "            later.\n",
    "        '''\n",
    "\n",
    "        return None\n"
   ]
  },
  {
   "cell_type": "code",
   "execution_count": 45,
   "metadata": {},
   "outputs": [],
   "source": [
    "# Now that we've defined our weather_station class we can create new instances of it\n",
    "christman_field = weather_station('Christman Field',40.597,-105.144)"
   ]
  },
  {
   "cell_type": "code",
   "execution_count": 46,
   "metadata": {},
   "outputs": [],
   "source": [
    "# We can call the methods we defined earlier (the functions we made inside the class definition)\n",
    "christman_field.observe_temp_and_rh(88,55)"
   ]
  },
  {
   "cell_type": "code",
   "execution_count": 47,
   "metadata": {},
   "outputs": [
    {
     "name": "stdout",
     "output_type": "stream",
     "text": [
      "Name of our weather station: Christman Field\n",
      "Temp at our weather station: 88F\n",
      "RH at our weather station: 55%\n"
     ]
    }
   ],
   "source": [
    "# We can also access properties of the class we created\n",
    "print(f'Name of our weather station: {christman_field.name}')\n",
    "print(f'Temp at our weather station: {christman_field.temp}F')\n",
    "print(f'RH at our weather station: {christman_field.RH}%')"
   ]
  },
  {
   "cell_type": "markdown",
   "metadata": {},
   "source": [
    "Now that we've covered a lot of material let's try and put it into practice with the Workshop_1_Exercises notebook"
   ]
  }
 ],
 "metadata": {
  "kernelspec": {
   "display_name": "tutorial_test",
   "language": "python",
   "name": "python3"
  },
  "language_info": {
   "codemirror_mode": {
    "name": "ipython",
    "version": 3
   },
   "file_extension": ".py",
   "mimetype": "text/x-python",
   "name": "python",
   "nbconvert_exporter": "python",
   "pygments_lexer": "ipython3",
   "version": "3.12.3"
  }
 },
 "nbformat": 4,
 "nbformat_minor": 2
}
